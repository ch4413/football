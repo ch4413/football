{
 "cells": [
  {
   "cell_type": "code",
   "execution_count": 2,
   "metadata": {},
   "outputs": [
    {
     "name": "stdout",
     "output_type": "stream",
     "text": [
      "Optimization terminated successfully.\n",
      "         Current function value: 0.682555\n",
      "         Iterations 4\n",
      "                           Logit Regression Results                           \n",
      "==============================================================================\n",
      "Dep. Variable:          count_gt_zero   No. Observations:                 1000\n",
      "Model:                          Logit   Df Residuals:                      998\n",
      "Method:                           MLE   Df Model:                            1\n",
      "Date:                Tue, 20 Aug 2024   Pseudo R-squ.:                 0.01403\n",
      "Time:                        09:36:30   Log-Likelihood:                -682.55\n",
      "converged:                       True   LL-Null:                       -692.26\n",
      "Covariance Type:            nonrobust   LLR p-value:                 1.049e-05\n",
      "==============================================================================\n",
      "                 coef    std err          z      P>|z|      [0.025      0.975]\n",
      "------------------------------------------------------------------------------\n",
      "Intercept     -0.0803      0.064     -1.256      0.209      -0.206       0.045\n",
      "x             -0.2894      0.067     -4.342      0.000      -0.420      -0.159\n",
      "==============================================================================\n",
      "Optimization terminated successfully.\n",
      "         Current function value: 1.784162\n",
      "         Iterations 5\n",
      "                          Poisson Regression Results                          \n",
      "==============================================================================\n",
      "Dep. Variable:                 counts   No. Observations:                  479\n",
      "Model:                        Poisson   Df Residuals:                      477\n",
      "Method:                           MLE   Df Model:                            1\n",
      "Date:                Tue, 20 Aug 2024   Pseudo R-squ.:                 0.08574\n",
      "Time:                        09:36:30   Log-Likelihood:                -854.61\n",
      "converged:                       True   LL-Null:                       -934.76\n",
      "Covariance Type:            nonrobust   LLR p-value:                 9.739e-37\n",
      "==============================================================================\n",
      "                 coef    std err          z      P>|z|      [0.025      0.975]\n",
      "------------------------------------------------------------------------------\n",
      "Intercept      1.1037      0.027     41.373      0.000       1.051       1.156\n",
      "x              0.3718      0.029     12.669      0.000       0.314       0.429\n",
      "==============================================================================\n"
     ]
    }
   ],
   "source": [
    "import numpy as np\n",
    "import pandas as pd\n",
    "import statsmodels.api as sm\n",
    "import statsmodels.formula.api as smf\n",
    "\n",
    "# Set random seed for reproducibility\n",
    "np.random.seed(42)\n",
    "\n",
    "# Simulate data\n",
    "n = 1000  # Number of observations\n",
    "x = np.random.normal(0, 1, n)  # Predictor variable\n",
    "\n",
    "# Simulate the hurdle process\n",
    "# First, a binary outcome (logistic regression)\n",
    "p_zero = 1 / (1 + np.exp(-0.5 * x))  # Probability of zero counts\n",
    "is_zero = np.random.binomial(1, p_zero, n)\n",
    "\n",
    "# Second, a count outcome (Poisson regression)\n",
    "mean_count = np.exp(1 + 0.5 * x)  # Mean of the Poisson distribution\n",
    "counts = np.random.poisson(mean_count)\n",
    "counts[is_zero == 1] = 0  # Set counts to zero where is_zero == 1\n",
    "\n",
    "# Create a DataFrame\n",
    "data = pd.DataFrame({'x': x, 'counts': counts})\n",
    "\n",
    "# Convert boolean response to integers (0 or 1)\n",
    "data['count_gt_zero'] = (data['counts'] > 0).astype(int)\n",
    "\n",
    "# Logistic regression for the hurdle (zero vs non-zero)\n",
    "logit_model = smf.logit('count_gt_zero ~ x', data=data).fit()\n",
    "print(logit_model.summary())\n",
    "\n",
    "# Truncated Poisson regression for the count model (counts > 0)\n",
    "# We subset the data to only those rows with counts > 0\n",
    "truncated_data = data[data['counts'] > 0]\n",
    "poisson_model = smf.poisson('counts ~ x', data=truncated_data).fit()\n",
    "print(poisson_model.summary())"
   ]
  },
  {
   "cell_type": "code",
   "execution_count": null,
   "metadata": {},
   "outputs": [],
   "source": []
  }
 ],
 "metadata": {
  "kernelspec": {
   "display_name": "bayes",
   "language": "python",
   "name": "python3"
  },
  "language_info": {
   "codemirror_mode": {
    "name": "ipython",
    "version": 3
   },
   "file_extension": ".py",
   "mimetype": "text/x-python",
   "name": "python",
   "nbconvert_exporter": "python",
   "pygments_lexer": "ipython3",
   "version": "3.10.14"
  }
 },
 "nbformat": 4,
 "nbformat_minor": 2
}
