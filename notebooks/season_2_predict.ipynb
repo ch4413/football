{
 "cells": [
  {
   "cell_type": "markdown",
   "metadata": {},
   "source": [
    "## EDA Notebook"
   ]
  },
  {
   "cell_type": "code",
   "execution_count": 27,
   "metadata": {},
   "outputs": [],
   "source": [
    "import pandas as pd\n",
    "import pymc3 as pm\n",
    "import numpy as np\n",
    "import theano.tensor.nnet as nnet"
   ]
  },
  {
   "cell_type": "code",
   "execution_count": 43,
   "metadata": {},
   "outputs": [],
   "source": [
    "# Load data from results.csv\n",
    "results = pd.read_csv('../data/results.csv')\n",
    "teams = pd.read_csv('../data/teams.csv')\n",
    "# Define the outcome variable\n",
    "results['Outcome'] = results.apply(\n",
    "    lambda row: 'HomeWin' if row['HomeScore'] > row['AwayScore'] \n",
    "    else ('Draw' if row['HomeScore'] == row['AwayScore'] else 'AwayWin'), axis=1\n",
    ")"
   ]
  },
  {
   "cell_type": "code",
   "execution_count": 29,
   "metadata": {},
   "outputs": [],
   "source": [
    "def results_points(a, b):\n",
    "    \"\"\" Win, lose, draw 3, 0, 1 \"\"\"\n",
    "    if a > b:\n",
    "        return [3, 0]\n",
    "    if b > a:\n",
    "        return [0, 3]\n",
    "    if b == a:\n",
    "        return [1, 1]\n",
    "    else:\n",
    "        return ValueError"
   ]
  },
  {
   "cell_type": "code",
   "execution_count": 30,
   "metadata": {},
   "outputs": [],
   "source": [
    "results['Points'] = results.apply(lambda row: results_points(row['HomeScore'], row['AwayScore']), axis=1)\n",
    "results[['HomePoints', 'AwayPoints']] = pd.DataFrame(results['Points'].tolist(), index=results.index)"
   ]
  },
  {
   "cell_type": "code",
   "execution_count": 31,
   "metadata": {},
   "outputs": [],
   "source": [
    "season1 = results[results['SeasonID']==1]"
   ]
  },
  {
   "cell_type": "code",
   "execution_count": 32,
   "metadata": {},
   "outputs": [],
   "source": [
    "def get_points_by_week(df):\n",
    "    new_df = df.copy()\n",
    "    home = new_df[['Gameweek', 'HomeTeamID', 'HomePoints', 'HomeScore', 'AwayScore']].copy()\n",
    "    away = new_df[['Gameweek', 'AwayTeamID', 'AwayPoints', 'AwayScore', 'HomeScore']].copy()\n",
    "    cols = ['Gameweek', 'ID', 'Points', 'For', 'Against']\n",
    "    home.columns = cols\n",
    "    away.columns = cols\n",
    "    points_by_week = pd.concat([home, away])\n",
    "    return points_by_week"
   ]
  },
  {
   "cell_type": "code",
   "execution_count": 33,
   "metadata": {},
   "outputs": [],
   "source": [
    "points_by_week_s1 = get_points_by_week(season1)"
   ]
  },
  {
   "cell_type": "code",
   "execution_count": 34,
   "metadata": {},
   "outputs": [
    {
     "data": {
      "text/html": [
       "<div>\n",
       "<style scoped>\n",
       "    .dataframe tbody tr th:only-of-type {\n",
       "        vertical-align: middle;\n",
       "    }\n",
       "\n",
       "    .dataframe tbody tr th {\n",
       "        vertical-align: top;\n",
       "    }\n",
       "\n",
       "    .dataframe thead th {\n",
       "        text-align: right;\n",
       "    }\n",
       "</style>\n",
       "<table border=\"1\" class=\"dataframe\">\n",
       "  <thead>\n",
       "    <tr style=\"text-align: right;\">\n",
       "      <th></th>\n",
       "      <th>TeamName</th>\n",
       "      <th>Points</th>\n",
       "      <th>For</th>\n",
       "      <th>Against</th>\n",
       "      <th>GD</th>\n",
       "    </tr>\n",
       "  </thead>\n",
       "  <tbody>\n",
       "    <tr>\n",
       "      <th>0</th>\n",
       "      <td>Miami</td>\n",
       "      <td>138</td>\n",
       "      <td>159</td>\n",
       "      <td>41</td>\n",
       "      <td>118</td>\n",
       "    </tr>\n",
       "    <tr>\n",
       "      <th>1</th>\n",
       "      <td>Cincinnati</td>\n",
       "      <td>125</td>\n",
       "      <td>130</td>\n",
       "      <td>51</td>\n",
       "      <td>79</td>\n",
       "    </tr>\n",
       "    <tr>\n",
       "      <th>2</th>\n",
       "      <td>Baltimore</td>\n",
       "      <td>117</td>\n",
       "      <td>136</td>\n",
       "      <td>41</td>\n",
       "      <td>95</td>\n",
       "    </tr>\n",
       "    <tr>\n",
       "      <th>3</th>\n",
       "      <td>New York S</td>\n",
       "      <td>113</td>\n",
       "      <td>108</td>\n",
       "      <td>52</td>\n",
       "      <td>56</td>\n",
       "    </tr>\n",
       "    <tr>\n",
       "      <th>4</th>\n",
       "      <td>Boston</td>\n",
       "      <td>106</td>\n",
       "      <td>130</td>\n",
       "      <td>58</td>\n",
       "      <td>72</td>\n",
       "    </tr>\n",
       "  </tbody>\n",
       "</table>\n",
       "</div>"
      ],
      "text/plain": [
       "     TeamName  Points  For  Against   GD\n",
       "0       Miami     138  159       41  118\n",
       "1  Cincinnati     125  130       51   79\n",
       "2   Baltimore     117  136       41   95\n",
       "3  New York S     113  108       52   56\n",
       "4      Boston     106  130       58   72"
      ]
     },
     "execution_count": 34,
     "metadata": {},
     "output_type": "execute_result"
    }
   ],
   "source": [
    "# Sum points over all weeks by Team\n",
    "final_table_s1 = (points_by_week_s1.groupby(['ID']).agg({'Points': 'sum', 'For': 'sum', 'Against': 'sum'})\n",
    "               .reset_index()\n",
    "               .sort_values('Points', ascending=False)\n",
    "               )\n",
    "final_table_s1['GD'] = final_table_s1['For'] - final_table_s1['Against']\n",
    "final_table_s1 = final_table_s1.reset_index().drop('index', axis=1)\n",
    "\n",
    "final_table_s1 = pd.merge(final_table_s1, teams, left_on='ID', right_on='TeamID')\n",
    "final_table_s1[['TeamName', 'Points', 'For', 'Against', 'GD']].head(5)"
   ]
  },
  {
   "cell_type": "code",
   "execution_count": 50,
   "metadata": {},
   "outputs": [],
   "source": [
    "outcome_mapping = {'HomeWin': 0, 'Draw': 1, 'AwayWin': 2}\n",
    "# Applying the mapping\n",
    "results['Outcome_encoded'] = results['Outcome'].map(outcome_mapping)\n",
    "\n",
    "# Extracting the encoded outcomes\n",
    "y = results['Outcome_encoded'].values"
   ]
  },
  {
   "cell_type": "code",
   "execution_count": 51,
   "metadata": {},
   "outputs": [
    {
     "name": "stderr",
     "output_type": "stream",
     "text": [
      "Auto-assigning NUTS sampler...\n",
      "Initializing NUTS using jitter+adapt_diag...\n",
      "Multiprocess sampling (4 chains in 4 jobs)\n",
      "NUTS: [beta_away_rank, beta_home_rank, beta_home_adv, intercept]\n"
     ]
    },
    {
     "data": {
      "text/html": [
       "\n",
       "    <div>\n",
       "        <style>\n",
       "            /* Turns off some styling */\n",
       "            progress {\n",
       "                /* gets rid of default border in Firefox and Opera. */\n",
       "                border: none;\n",
       "                /* Needs to be in here for Safari polyfill so background images work as expected. */\n",
       "                background-size: auto;\n",
       "            }\n",
       "            .progress-bar-interrupted, .progress-bar-interrupted::-webkit-progress-bar {\n",
       "                background: #F44336;\n",
       "            }\n",
       "        </style>\n",
       "      <progress value='12000' class='' max='12000' style='width:300px; height:20px; vertical-align: middle;'></progress>\n",
       "      100.00% [12000/12000 00:32<00:00 Sampling 4 chains, 0 divergences]\n",
       "    </div>\n",
       "    "
      ],
      "text/plain": [
       "<IPython.core.display.HTML object>"
      ]
     },
     "metadata": {},
     "output_type": "display_data"
    },
    {
     "name": "stderr",
     "output_type": "stream",
     "text": [
      "Sampling 4 chains for 1_000 tune and 2_000 draw iterations (4_000 + 8_000 draws total) took 57 seconds.\n"
     ]
    }
   ],
   "source": [
    "# Feature engineering (using previous season's ranks as a proxy for team strength)\n",
    "team_rank = { i : x for x, i in enumerate(final_table_s1['TeamID'].tolist(), 1)}\n",
    "previous_season_ranking = team_rank\n",
    "\n",
    "# Map previous season ranks\n",
    "results['HomeRank'] = results['HomeTeamID'].map(previous_season_ranking)\n",
    "results['AwayRank'] = results['AwayTeamID'].map(previous_season_ranking)\n",
    "\n",
    "# Home advantage feature\n",
    "results['HomeAdvantage'] = 1  # All games are home games for the home team\n",
    "\n",
    "# Extract features and labels\n",
    "X = results[['HomeAdvantage', 'HomeRank', 'AwayRank']].values\n",
    "y = results['Outcome_encoded'].values\n",
    "\n",
    "if np.isnan(X).any() or np.isnan(y).any():\n",
    "    raise ValueError(\"X or y contains NaN values, which are not supported.\")\n",
    "\n",
    "# Define Bayesian model using PyMC3\n",
    "with pm.Model() as model:\n",
    "    # Priors for the coefficients\n",
    "    intercept = pm.Normal('intercept', 0, sigma=10)\n",
    "    beta_home_adv = pm.Normal('beta_home_adv', 0, sigma=10)\n",
    "    beta_home_rank = pm.Normal('beta_home_rank', 0, sigma=10)\n",
    "    beta_away_rank = pm.Normal('beta_away_rank', 0, sigma=10)\n",
    "    \n",
    "    # Linear combination\n",
    "    theta = (intercept + beta_home_adv * X[:, 0] + \n",
    "             beta_home_rank * X[:, 1] +\n",
    "             beta_away_rank * X[:, 2])\n",
    "    \n",
    "    # Multinomial logistic regression\n",
    "    #p = pm.math.softmax(theta)\n",
    "    p = nnet.softmax(theta)  # Correct softmax usage\n",
    "    outcome = pm.Categorical('outcome', p=p, observed=y)\n",
    "    \n",
    "    # Sampling from the posterior\n",
    "    trace = pm.sample(2000, tune=1000, return_inferencedata=True)\n",
    "    \n",
    "# The trace contains samples from the posterior distribution, which we can analyze\n"
   ]
  },
  {
   "cell_type": "code",
   "execution_count": null,
   "metadata": {},
   "outputs": [],
   "source": [
    "trace.posterior['']"
   ]
  },
  {
   "cell_type": "code",
   "execution_count": 84,
   "metadata": {},
   "outputs": [
    {
     "ename": "ValueError",
     "evalue": "dimensions ('draw',) must have the same length as the number of data dimensions, ndim=2",
     "output_type": "error",
     "traceback": [
      "\u001b[1;31m---------------------------------------------------------------------------\u001b[0m",
      "\u001b[1;31mValueError\u001b[0m                                Traceback (most recent call last)",
      "Cell \u001b[1;32mIn[84], line 36\u001b[0m\n\u001b[0;32m     33\u001b[0m \u001b[38;5;66;03m# Calculate the logits for each category, for each new fixture\u001b[39;00m\n\u001b[0;32m     34\u001b[0m \u001b[38;5;28;01mfor\u001b[39;00m i \u001b[38;5;129;01min\u001b[39;00m \u001b[38;5;28mrange\u001b[39m(n_samples):\n\u001b[0;32m     35\u001b[0m     theta_new[i] \u001b[38;5;241m=\u001b[39m (intercept_samples[i] \u001b[38;5;241m+\u001b[39m\n\u001b[1;32m---> 36\u001b[0m                     \u001b[43mbeta_home_adv_samples\u001b[49m\u001b[43m[\u001b[49m\u001b[43mi\u001b[49m\u001b[43m]\u001b[49m\u001b[43m \u001b[49m\u001b[38;5;241;43m*\u001b[39;49m\u001b[43m \u001b[49m\u001b[43mX_new\u001b[49m\u001b[43m[\u001b[49m\u001b[43m:\u001b[49m\u001b[43m,\u001b[49m\u001b[43m \u001b[49m\u001b[38;5;241;43m0\u001b[39;49m\u001b[43m,\u001b[49m\u001b[43m \u001b[49m\u001b[43mnp\u001b[49m\u001b[38;5;241;43m.\u001b[39;49m\u001b[43mnewaxis\u001b[49m\u001b[43m]\u001b[49m \u001b[38;5;241m+\u001b[39m\n\u001b[0;32m     37\u001b[0m                     beta_home_rank_samples[i] \u001b[38;5;241m*\u001b[39m X_new[:, \u001b[38;5;241m1\u001b[39m, np\u001b[38;5;241m.\u001b[39mnewaxis] \u001b[38;5;241m+\u001b[39m\n\u001b[0;32m     38\u001b[0m                     beta_away_rank_samples[i] \u001b[38;5;241m*\u001b[39m X_new[:, \u001b[38;5;241m2\u001b[39m, np\u001b[38;5;241m.\u001b[39mnewaxis])\n\u001b[0;32m     40\u001b[0m \u001b[38;5;66;03m# Compute the softmax probabilities\u001b[39;00m\n\u001b[0;32m     41\u001b[0m p_new \u001b[38;5;241m=\u001b[39m nnet\u001b[38;5;241m.\u001b[39msoftmax(theta_new)\n",
      "File \u001b[1;32mc:\\Users\\chris\\anaconda3\\envs\\bayes\\lib\\site-packages\\xarray\\core\\_typed_ops.py:228\u001b[0m, in \u001b[0;36mDataArrayOpsMixin.__mul__\u001b[1;34m(self, other)\u001b[0m\n\u001b[0;32m    227\u001b[0m \u001b[38;5;28;01mdef\u001b[39;00m \u001b[38;5;21m__mul__\u001b[39m(\u001b[38;5;28mself\u001b[39m, other):\n\u001b[1;32m--> 228\u001b[0m     \u001b[38;5;28;01mreturn\u001b[39;00m \u001b[38;5;28;43mself\u001b[39;49m\u001b[38;5;241;43m.\u001b[39;49m\u001b[43m_binary_op\u001b[49m\u001b[43m(\u001b[49m\u001b[43mother\u001b[49m\u001b[43m,\u001b[49m\u001b[43m \u001b[49m\u001b[43moperator\u001b[49m\u001b[38;5;241;43m.\u001b[39;49m\u001b[43mmul\u001b[49m\u001b[43m)\u001b[49m\n",
      "File \u001b[1;32mc:\\Users\\chris\\anaconda3\\envs\\bayes\\lib\\site-packages\\xarray\\core\\dataarray.py:4620\u001b[0m, in \u001b[0;36mDataArray._binary_op\u001b[1;34m(self, other, f, reflexive)\u001b[0m\n\u001b[0;32m   4616\u001b[0m other_variable \u001b[38;5;241m=\u001b[39m \u001b[38;5;28mgetattr\u001b[39m(other, \u001b[38;5;124m\"\u001b[39m\u001b[38;5;124mvariable\u001b[39m\u001b[38;5;124m\"\u001b[39m, other)\n\u001b[0;32m   4617\u001b[0m other_coords \u001b[38;5;241m=\u001b[39m \u001b[38;5;28mgetattr\u001b[39m(other, \u001b[38;5;124m\"\u001b[39m\u001b[38;5;124mcoords\u001b[39m\u001b[38;5;124m\"\u001b[39m, \u001b[38;5;28;01mNone\u001b[39;00m)\n\u001b[0;32m   4619\u001b[0m variable \u001b[38;5;241m=\u001b[39m (\n\u001b[1;32m-> 4620\u001b[0m     \u001b[43mf\u001b[49m\u001b[43m(\u001b[49m\u001b[38;5;28;43mself\u001b[39;49m\u001b[38;5;241;43m.\u001b[39;49m\u001b[43mvariable\u001b[49m\u001b[43m,\u001b[49m\u001b[43m \u001b[49m\u001b[43mother_variable\u001b[49m\u001b[43m)\u001b[49m\n\u001b[0;32m   4621\u001b[0m     \u001b[38;5;28;01mif\u001b[39;00m \u001b[38;5;129;01mnot\u001b[39;00m reflexive\n\u001b[0;32m   4622\u001b[0m     \u001b[38;5;28;01melse\u001b[39;00m f(other_variable, \u001b[38;5;28mself\u001b[39m\u001b[38;5;241m.\u001b[39mvariable)\n\u001b[0;32m   4623\u001b[0m )\n\u001b[0;32m   4624\u001b[0m coords, indexes \u001b[38;5;241m=\u001b[39m \u001b[38;5;28mself\u001b[39m\u001b[38;5;241m.\u001b[39mcoords\u001b[38;5;241m.\u001b[39m_merge_raw(other_coords, reflexive)\n\u001b[0;32m   4625\u001b[0m name \u001b[38;5;241m=\u001b[39m \u001b[38;5;28mself\u001b[39m\u001b[38;5;241m.\u001b[39m_result_name(other)\n",
      "File \u001b[1;32mc:\\Users\\chris\\anaconda3\\envs\\bayes\\lib\\site-packages\\xarray\\core\\_typed_ops.py:434\u001b[0m, in \u001b[0;36mVariableOpsMixin.__mul__\u001b[1;34m(self, other)\u001b[0m\n\u001b[0;32m    433\u001b[0m \u001b[38;5;28;01mdef\u001b[39;00m \u001b[38;5;21m__mul__\u001b[39m(\u001b[38;5;28mself\u001b[39m, other):\n\u001b[1;32m--> 434\u001b[0m     \u001b[38;5;28;01mreturn\u001b[39;00m \u001b[38;5;28;43mself\u001b[39;49m\u001b[38;5;241;43m.\u001b[39;49m\u001b[43m_binary_op\u001b[49m\u001b[43m(\u001b[49m\u001b[43mother\u001b[49m\u001b[43m,\u001b[49m\u001b[43m \u001b[49m\u001b[43moperator\u001b[49m\u001b[38;5;241;43m.\u001b[39;49m\u001b[43mmul\u001b[49m\u001b[43m)\u001b[49m\n",
      "File \u001b[1;32mc:\\Users\\chris\\anaconda3\\envs\\bayes\\lib\\site-packages\\xarray\\core\\variable.py:2707\u001b[0m, in \u001b[0;36mVariable._binary_op\u001b[1;34m(self, other, f, reflexive)\u001b[0m\n\u001b[0;32m   2703\u001b[0m \u001b[38;5;28;01mwith\u001b[39;00m np\u001b[38;5;241m.\u001b[39merrstate(\u001b[38;5;28mall\u001b[39m\u001b[38;5;241m=\u001b[39m\u001b[38;5;124m\"\u001b[39m\u001b[38;5;124mignore\u001b[39m\u001b[38;5;124m\"\u001b[39m):\n\u001b[0;32m   2704\u001b[0m     new_data \u001b[38;5;241m=\u001b[39m (\n\u001b[0;32m   2705\u001b[0m         f(self_data, other_data) \u001b[38;5;28;01mif\u001b[39;00m \u001b[38;5;129;01mnot\u001b[39;00m reflexive \u001b[38;5;28;01melse\u001b[39;00m f(other_data, self_data)\n\u001b[0;32m   2706\u001b[0m     )\n\u001b[1;32m-> 2707\u001b[0m result \u001b[38;5;241m=\u001b[39m \u001b[43mVariable\u001b[49m\u001b[43m(\u001b[49m\u001b[43mdims\u001b[49m\u001b[43m,\u001b[49m\u001b[43m \u001b[49m\u001b[43mnew_data\u001b[49m\u001b[43m,\u001b[49m\u001b[43m \u001b[49m\u001b[43mattrs\u001b[49m\u001b[38;5;241;43m=\u001b[39;49m\u001b[43mattrs\u001b[49m\u001b[43m)\u001b[49m\n\u001b[0;32m   2708\u001b[0m \u001b[38;5;28;01mreturn\u001b[39;00m result\n",
      "File \u001b[1;32mc:\\Users\\chris\\anaconda3\\envs\\bayes\\lib\\site-packages\\xarray\\core\\variable.py:367\u001b[0m, in \u001b[0;36mVariable.__init__\u001b[1;34m(self, dims, data, attrs, encoding, fastpath)\u001b[0m\n\u001b[0;32m    347\u001b[0m \u001b[38;5;250m\u001b[39m\u001b[38;5;124;03m\"\"\"\u001b[39;00m\n\u001b[0;32m    348\u001b[0m \u001b[38;5;124;03mParameters\u001b[39;00m\n\u001b[0;32m    349\u001b[0m \u001b[38;5;124;03m----------\u001b[39;00m\n\u001b[1;32m   (...)\u001b[0m\n\u001b[0;32m    364\u001b[0m \u001b[38;5;124;03m    unrecognized encoding items.\u001b[39;00m\n\u001b[0;32m    365\u001b[0m \u001b[38;5;124;03m\"\"\"\u001b[39;00m\n\u001b[0;32m    366\u001b[0m \u001b[38;5;28mself\u001b[39m\u001b[38;5;241m.\u001b[39m_data \u001b[38;5;241m=\u001b[39m as_compatible_data(data, fastpath\u001b[38;5;241m=\u001b[39mfastpath)\n\u001b[1;32m--> 367\u001b[0m \u001b[38;5;28mself\u001b[39m\u001b[38;5;241m.\u001b[39m_dims \u001b[38;5;241m=\u001b[39m \u001b[38;5;28;43mself\u001b[39;49m\u001b[38;5;241;43m.\u001b[39;49m\u001b[43m_parse_dimensions\u001b[49m\u001b[43m(\u001b[49m\u001b[43mdims\u001b[49m\u001b[43m)\u001b[49m\n\u001b[0;32m    368\u001b[0m \u001b[38;5;28mself\u001b[39m\u001b[38;5;241m.\u001b[39m_attrs \u001b[38;5;241m=\u001b[39m \u001b[38;5;28;01mNone\u001b[39;00m\n\u001b[0;32m    369\u001b[0m \u001b[38;5;28mself\u001b[39m\u001b[38;5;241m.\u001b[39m_encoding \u001b[38;5;241m=\u001b[39m \u001b[38;5;28;01mNone\u001b[39;00m\n",
      "File \u001b[1;32mc:\\Users\\chris\\anaconda3\\envs\\bayes\\lib\\site-packages\\xarray\\core\\variable.py:683\u001b[0m, in \u001b[0;36mVariable._parse_dimensions\u001b[1;34m(self, dims)\u001b[0m\n\u001b[0;32m    681\u001b[0m     dims \u001b[38;5;241m=\u001b[39m \u001b[38;5;28mtuple\u001b[39m(dims)\n\u001b[0;32m    682\u001b[0m \u001b[38;5;28;01mif\u001b[39;00m \u001b[38;5;28mlen\u001b[39m(dims) \u001b[38;5;241m!=\u001b[39m \u001b[38;5;28mself\u001b[39m\u001b[38;5;241m.\u001b[39mndim:\n\u001b[1;32m--> 683\u001b[0m     \u001b[38;5;28;01mraise\u001b[39;00m \u001b[38;5;167;01mValueError\u001b[39;00m(\n\u001b[0;32m    684\u001b[0m         \u001b[38;5;124mf\u001b[39m\u001b[38;5;124m\"\u001b[39m\u001b[38;5;124mdimensions \u001b[39m\u001b[38;5;132;01m{\u001b[39;00mdims\u001b[38;5;132;01m}\u001b[39;00m\u001b[38;5;124m must have the same length as the \u001b[39m\u001b[38;5;124m\"\u001b[39m\n\u001b[0;32m    685\u001b[0m         \u001b[38;5;124mf\u001b[39m\u001b[38;5;124m\"\u001b[39m\u001b[38;5;124mnumber of data dimensions, ndim=\u001b[39m\u001b[38;5;132;01m{\u001b[39;00m\u001b[38;5;28mself\u001b[39m\u001b[38;5;241m.\u001b[39mndim\u001b[38;5;132;01m}\u001b[39;00m\u001b[38;5;124m\"\u001b[39m\n\u001b[0;32m    686\u001b[0m     )\n\u001b[0;32m    687\u001b[0m \u001b[38;5;28;01mreturn\u001b[39;00m dims\n",
      "\u001b[1;31mValueError\u001b[0m: dimensions ('draw',) must have the same length as the number of data dimensions, ndim=2"
     ]
    }
   ],
   "source": [
    "# Load fixtures for Season 2\n",
    "fixtures = pd.read_csv('../data/fixtures.csv')\n",
    "\n",
    "# Map previous season ranks to the new fixtures\n",
    "fixtures['HomeRank'] = fixtures['HomeTeamID'].map(previous_season_ranking)\n",
    "fixtures['AwayRank'] = fixtures['AwayTeamID'].map(previous_season_ranking)\n",
    "fixtures['HomeAdvantage'] = 1  # All home teams\n",
    "\n",
    "# Handle NaN values (e.g., new teams)\n",
    "fixtures['HomeRank'].fillna(max(previous_season_ranking.values()) + 1, inplace=True)\n",
    "fixtures['AwayRank'].fillna(max(previous_season_ranking.values()) + 1, inplace=True)\n",
    "\n",
    "# Extract features for prediction\n",
    "X_new = fixtures[['HomeAdvantage', 'HomeRank', 'AwayRank']].values\n",
    "n_new = X_new.shape[0]\n",
    "n_categories = 3\n",
    "\n",
    "# Assuming `trace` contains the posterior samples from the previous season's model fitting\n",
    "# And `model` is the PyMC3 model defined above\n",
    "with model:\n",
    "    # Extract posterior samples for each coefficient\n",
    "    intercept_samples = trace.posterior['intercept']\n",
    "    beta_home_adv_samples = trace.posterior['beta_home_adv']\n",
    "    beta_home_rank_samples = trace.posterior['beta_home_rank']\n",
    "    beta_away_rank_samples = trace.posterior['beta_away_rank']\n",
    "\n",
    "    # Number of samples in the posterior\n",
    "    n_samples = len(intercept_samples)\n",
    "\n",
    "    # Initialize an array to store the logits for new fixtures\n",
    "    theta_new = np.zeros((n_samples, n_new, n_categories))\n",
    "\n",
    "    # Calculate the logits for each category, for each new fixture\n",
    "    for i in range(n_samples):\n",
    "        theta_new[i] = (intercept_samples[i] +\n",
    "                        beta_home_adv_samples[i] * X_new[:, 0, np.newaxis] +\n",
    "                        beta_home_rank_samples[i] * X_new[:, 1, np.newaxis] +\n",
    "                        beta_away_rank_samples[i] * X_new[:, 2, np.newaxis])\n",
    "\n",
    "    # Compute the softmax probabilities\n",
    "    p_new = nnet.softmax(theta_new)\n",
    "\n",
    "    # Calculate the mean probability over all samples for each fixture\n",
    "    mean_p_new = p_new.mean(axis=0)\n",
    "\n",
    "    # Predict the outcome categories using the highest mean probability class\n",
    "    predicted_outcomes = np.argmax(mean_p_new, axis=1)\n",
    "\n",
    "# `predicted_outcomes` will now contain the predicted categories for each fixture\n",
    "# where 0 = Home Win, 1 = Draw, 2 = Away Win\n",
    "print(predicted_outcomes)"
   ]
  },
  {
   "cell_type": "code",
   "execution_count": null,
   "metadata": {},
   "outputs": [],
   "source": []
  }
 ],
 "metadata": {
  "kernelspec": {
   "display_name": "Python 3",
   "language": "python",
   "name": "python3"
  },
  "language_info": {
   "codemirror_mode": {
    "name": "ipython",
    "version": 3
   },
   "file_extension": ".py",
   "mimetype": "text/x-python",
   "name": "python",
   "nbconvert_exporter": "python",
   "pygments_lexer": "ipython3",
   "version": "3.10.14"
  }
 },
 "nbformat": 4,
 "nbformat_minor": 4
}
