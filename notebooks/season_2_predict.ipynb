{
 "cells": [
  {
   "cell_type": "code",
   "execution_count": 1,
   "metadata": {},
   "outputs": [
    {
     "name": "stderr",
     "output_type": "stream",
     "text": [
      "WARNING (theano.tensor.blas): Using NumPy C-API based implementation for BLAS functions.\n"
     ]
    }
   ],
   "source": [
    "import pandas as pd\n",
    "import pymc3 as pm\n",
    "import numpy as np\n",
    "from scipy.stats import gamma\n",
    "\n",
    "from empiricaldist import Pmf\n",
    "import matplotlib.pyplot as plt"
   ]
  },
  {
   "cell_type": "code",
   "execution_count": 2,
   "metadata": {},
   "outputs": [],
   "source": [
    "# Load data from results.csv\n",
    "results = pd.read_csv('../data/results.csv')\n",
    "teams = pd.read_csv('../data/teams.csv')\n",
    "fixtures = pd.read_csv('../data/fixtures.csv')\n",
    "# Define the outcome variable\n",
    "results['Outcome'] = results.apply(\n",
    "    lambda row: 'HomeWin' if row['HomeScore'] > row['AwayScore'] \n",
    "    else ('Draw' if row['HomeScore'] == row['AwayScore'] else 'AwayWin'), axis=1\n",
    ")"
   ]
  },
  {
   "cell_type": "code",
   "execution_count": 3,
   "metadata": {},
   "outputs": [],
   "source": [
    "home = results[['Gameweek', 'HomeTeamID', 'HomeScore']]\n",
    "home.columns = ['Gameweek', 'TeamID', 'Score']\n",
    "away = results[['Gameweek', 'AwayTeamID', 'AwayScore']]\n",
    "away.columns = ['Gameweek', 'TeamID', 'Score']\n",
    "goals_df = pd.concat([home, away])"
   ]
  },
  {
   "cell_type": "code",
   "execution_count": 4,
   "metadata": {},
   "outputs": [],
   "source": [
    "teamids = sorted(goals_df['TeamID'].drop_duplicates().to_list())\n",
    "past_goals = {str(x): goals_df[goals_df['TeamID']==x]['Score'].to_list() for x in teamids}"
   ]
  },
  {
   "cell_type": "code",
   "execution_count": 5,
   "metadata": {},
   "outputs": [
    {
     "name": "stderr",
     "output_type": "stream",
     "text": [
      "C:\\Users\\chris\\AppData\\Local\\Temp\\ipykernel_28184\\1071094365.py:13: FutureWarning: In v4.0, pm.sample will return an `arviz.InferenceData` object instead of a `MultiTrace` by default. You can pass return_inferencedata=True or return_inferencedata=False to be safe and silence this warning.\n",
      "  trace = pm.sample(500)#, nuts_kwargs=dict(target_accept=0.95))\n",
      "Auto-assigning NUTS sampler...\n",
      "Initializing NUTS using jitter+adapt_diag...\n",
      "Multiprocess sampling (4 chains in 4 jobs)\n",
      "NUTS: [mu_28, mu_27, mu_26, mu_25, mu_24, mu_23, mu_22, mu_21, mu_20, mu_19, mu_18, mu_17, mu_16, mu_15, mu_14, mu_13, mu_12, mu_11, mu_10, mu_9, mu_8, mu_7, mu_6, mu_5, mu_4, mu_3, mu_2, mu_1, beta, alpha]\n"
     ]
    },
    {
     "data": {
      "text/html": [
       "\n",
       "    <div>\n",
       "        <style>\n",
       "            /* Turns off some styling */\n",
       "            progress {\n",
       "                /* gets rid of default border in Firefox and Opera. */\n",
       "                border: none;\n",
       "                /* Needs to be in here for Safari polyfill so background images work as expected. */\n",
       "                background-size: auto;\n",
       "            }\n",
       "            .progress-bar-interrupted, .progress-bar-interrupted::-webkit-progress-bar {\n",
       "                background: #F44336;\n",
       "            }\n",
       "        </style>\n",
       "      <progress value='6000' class='' max='6000' style='width:300px; height:20px; vertical-align: middle;'></progress>\n",
       "      100.00% [6000/6000 00:27<00:00 Sampling 4 chains, 5 divergences]\n",
       "    </div>\n",
       "    "
      ],
      "text/plain": [
       "<IPython.core.display.HTML object>"
      ]
     },
     "metadata": {},
     "output_type": "display_data"
    },
    {
     "name": "stderr",
     "output_type": "stream",
     "text": [
      "Sampling 4 chains for 1_000 tune and 500 draw iterations (4_000 + 2_000 draws total) took 309 seconds.\n",
      "There were 5 divergences after tuning. Increase `target_accept` or reparameterize.\n"
     ]
    }
   ],
   "source": [
    "model = pm.Model()\n",
    "\n",
    "with model:\n",
    "    alpha = pm.Exponential('alpha', lam=1)\n",
    "    beta = pm.Exponential('beta', lam=1)\n",
    "    \n",
    "    mu = dict()\n",
    "    goals = dict()\n",
    "    for name, observed in past_goals.items():\n",
    "        mu[name] = pm.Gamma('mu_'+ str(name), alpha, beta)\n",
    "        goals[name] = pm.Poisson(name, mu[name], observed=observed)\n",
    "        \n",
    "    trace = pm.sample(500)#, nuts_kwargs=dict(target_accept=0.95))"
   ]
  },
  {
   "cell_type": "code",
   "execution_count": 6,
   "metadata": {},
   "outputs": [
    {
     "data": {
      "text/html": [
       "\n",
       "    <div>\n",
       "        <style>\n",
       "            /* Turns off some styling */\n",
       "            progress {\n",
       "                /* gets rid of default border in Firefox and Opera. */\n",
       "                border: none;\n",
       "                /* Needs to be in here for Safari polyfill so background images work as expected. */\n",
       "                background-size: auto;\n",
       "            }\n",
       "            .progress-bar-interrupted, .progress-bar-interrupted::-webkit-progress-bar {\n",
       "                background: #F44336;\n",
       "            }\n",
       "        </style>\n",
       "      <progress value='10000' class='' max='10000' style='width:300px; height:20px; vertical-align: middle;'></progress>\n",
       "      100.00% [10000/10000 02:26<00:00]\n",
       "    </div>\n",
       "    "
      ],
      "text/plain": [
       "<IPython.core.display.HTML object>"
      ]
     },
     "metadata": {},
     "output_type": "display_data"
    }
   ],
   "source": [
    "with model:\n",
    "    post_pred = pm.sample_posterior_predictive(trace, samples=10000)"
   ]
  },
  {
   "cell_type": "code",
   "execution_count": 7,
   "metadata": {},
   "outputs": [],
   "source": [
    "goals_1 = post_pred['1'].flatten()\n",
    "goals_2 = post_pred['2'].flatten()"
   ]
  },
  {
   "cell_type": "code",
   "execution_count": 8,
   "metadata": {},
   "outputs": [],
   "source": [
    "win = np.mean(goals_1 > goals_2)\n",
    "lose = np.mean(goals_1 < goals_2)\n",
    "draw = np.mean(goals_1 == goals_2)"
   ]
  },
  {
   "cell_type": "code",
   "execution_count": 9,
   "metadata": {},
   "outputs": [
    {
     "data": {
      "text/plain": [
       "(0.5088824074074074, 0.24066018518518517, 0.2504574074074074)"
      ]
     },
     "execution_count": 9,
     "metadata": {},
     "output_type": "execute_result"
    }
   ],
   "source": [
    "win, lose, draw"
   ]
  },
  {
   "cell_type": "code",
   "execution_count": 10,
   "metadata": {},
   "outputs": [],
   "source": [
    "## Predict the outcome of all results"
   ]
  },
  {
   "cell_type": "code",
   "execution_count": 11,
   "metadata": {},
   "outputs": [],
   "source": [
    "# Create grid of results\n",
    "results_df = pd.DataFrame({x : post_pred[x].flatten() for x in post_pred.keys()})\n",
    "# Get HomeID, Away ID\n",
    "homeid = fixtures['HomeTeamID'].to_list()\n",
    "awayid = fixtures['AwayTeamID'].to_list()\n",
    "gameweek = fixtures['Gameweek'].to_list()\n",
    "# Generate W, L, D\n",
    "# Create Output"
   ]
  },
  {
   "cell_type": "code",
   "execution_count": 12,
   "metadata": {},
   "outputs": [],
   "source": [
    "def predict_match(homeid, awayid, gameweek, results_df):\n",
    "    \"\"\" Take Home and Away IDs for a fixture and\n",
    "    predict the result from the means of the simulated goals.\n",
    "    Assign W, L, D and return dict\n",
    "    \"\"\"\n",
    "\n",
    "    goals_1 = results_df[homeid]\n",
    "    goals_2 = results_df[awayid]\n",
    "\n",
    "    win = np.mean(goals_1 > goals_2)\n",
    "    lose = np.mean(goals_1 < goals_2)\n",
    "    draw = np.mean(goals_1 == goals_2)\n",
    "\n",
    "    results = {'Gameweek': gameweek,'HomeTeamID': homeid,\n",
    "               'AwayTeamID': awayid,\n",
    "               'HomeWin': win,\n",
    "               'AwayWin': lose,\n",
    "               'Draw': draw}\n",
    "\n",
    "    return results"
   ]
  },
  {
   "cell_type": "code",
   "execution_count": 13,
   "metadata": {},
   "outputs": [],
   "source": [
    "results_df = pd.DataFrame([predict_match(str(homeid[i]), str(awayid[i]), gameweek[i], results_df) for i in range(len(homeid))])"
   ]
  },
  {
   "cell_type": "code",
   "execution_count": 14,
   "metadata": {},
   "outputs": [],
   "source": [
    "results_df['HomeTeamID'] = results_df['HomeTeamID'].astype('int')\n",
    "results_df['AwayTeamID'] = results_df['AwayTeamID'].astype('int')"
   ]
  },
  {
   "cell_type": "code",
   "execution_count": 15,
   "metadata": {},
   "outputs": [
    {
     "data": {
      "text/html": [
       "<div>\n",
       "<style scoped>\n",
       "    .dataframe tbody tr th:only-of-type {\n",
       "        vertical-align: middle;\n",
       "    }\n",
       "\n",
       "    .dataframe tbody tr th {\n",
       "        vertical-align: top;\n",
       "    }\n",
       "\n",
       "    .dataframe thead th {\n",
       "        text-align: right;\n",
       "    }\n",
       "</style>\n",
       "<table border=\"1\" class=\"dataframe\">\n",
       "  <thead>\n",
       "    <tr style=\"text-align: right;\">\n",
       "      <th></th>\n",
       "      <th>Gameweek</th>\n",
       "      <th>HomeTeamName</th>\n",
       "      <th>AwayTeamName</th>\n",
       "      <th>HomeWin</th>\n",
       "      <th>AwayWin</th>\n",
       "      <th>Draw</th>\n",
       "    </tr>\n",
       "  </thead>\n",
       "  <tbody>\n",
       "    <tr>\n",
       "      <th>0</th>\n",
       "      <td>1</td>\n",
       "      <td>Anaheim</td>\n",
       "      <td>Arlington</td>\n",
       "      <td>0.240660</td>\n",
       "      <td>0.508882</td>\n",
       "      <td>0.250457</td>\n",
       "    </tr>\n",
       "    <tr>\n",
       "      <th>30</th>\n",
       "      <td>1</td>\n",
       "      <td>San Francisco</td>\n",
       "      <td>Boston</td>\n",
       "      <td>0.134476</td>\n",
       "      <td>0.680830</td>\n",
       "      <td>0.184694</td>\n",
       "    </tr>\n",
       "    <tr>\n",
       "      <th>223</th>\n",
       "      <td>1</td>\n",
       "      <td>Philadelphia</td>\n",
       "      <td>Cleveland Queens</td>\n",
       "      <td>0.472811</td>\n",
       "      <td>0.268348</td>\n",
       "      <td>0.258841</td>\n",
       "    </tr>\n",
       "    <tr>\n",
       "      <th>416</th>\n",
       "      <td>1</td>\n",
       "      <td>Montreal</td>\n",
       "      <td>Kansas City</td>\n",
       "      <td>0.306266</td>\n",
       "      <td>0.436746</td>\n",
       "      <td>0.256988</td>\n",
       "    </tr>\n",
       "    <tr>\n",
       "      <th>191</th>\n",
       "      <td>1</td>\n",
       "      <td>Seattle</td>\n",
       "      <td>Baltimore</td>\n",
       "      <td>0.374327</td>\n",
       "      <td>0.424727</td>\n",
       "      <td>0.200946</td>\n",
       "    </tr>\n",
       "  </tbody>\n",
       "</table>\n",
       "</div>"
      ],
      "text/plain": [
       "     Gameweek   HomeTeamName      AwayTeamName   HomeWin   AwayWin      Draw\n",
       "0           1        Anaheim         Arlington  0.240660  0.508882  0.250457\n",
       "30          1  San Francisco            Boston  0.134476  0.680830  0.184694\n",
       "223         1   Philadelphia  Cleveland Queens  0.472811  0.268348  0.258841\n",
       "416         1       Montreal       Kansas City  0.306266  0.436746  0.256988\n",
       "191         1        Seattle         Baltimore  0.374327  0.424727  0.200946"
      ]
     },
     "execution_count": 15,
     "metadata": {},
     "output_type": "execute_result"
    }
   ],
   "source": [
    "results_df_n = (results_df.merge(teams, left_on='HomeTeamID', right_on='TeamID')\n",
    "                .rename(columns={'TeamName': 'HomeTeamName'})\n",
    "                .drop('TeamID', axis=1)\n",
    "                .merge(teams, left_on='AwayTeamID', right_on='TeamID')\n",
    "                .rename(columns={'TeamName': 'AwayTeamName'})\n",
    "                .drop('TeamID', axis=1)\n",
    ")\n",
    "results_df_n[['Gameweek','HomeTeamName', 'AwayTeamName', 'HomeWin', 'AwayWin', 'Draw']].sort_values('Gameweek').head()"
   ]
  },
  {
   "cell_type": "code",
   "execution_count": 16,
   "metadata": {},
   "outputs": [],
   "source": [
    "# Get results from all seasons, filter for season 2"
   ]
  },
  {
   "cell_type": "code",
   "execution_count": null,
   "metadata": {},
   "outputs": [],
   "source": []
  }
 ],
 "metadata": {
  "kernelspec": {
   "display_name": "bayes",
   "language": "python",
   "name": "python3"
  },
  "language_info": {
   "codemirror_mode": {
    "name": "ipython",
    "version": 3
   },
   "file_extension": ".py",
   "mimetype": "text/x-python",
   "name": "python",
   "nbconvert_exporter": "python",
   "pygments_lexer": "ipython3",
   "version": "3.10.14"
  }
 },
 "nbformat": 4,
 "nbformat_minor": 2
}
