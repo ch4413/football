{
 "cells": [
  {
   "cell_type": "markdown",
   "metadata": {},
   "source": [
    "## EDA Notebook"
   ]
  },
  {
   "cell_type": "code",
   "execution_count": 15,
   "metadata": {},
   "outputs": [],
   "source": [
    "import pandas as pd\n",
    "import pymc3 as pm\n",
    "import numpy as np\n",
    "import theano.tensor.nnet as nnet\n",
    "import theano.tensor as tt"
   ]
  },
  {
   "cell_type": "code",
   "execution_count": 3,
   "metadata": {},
   "outputs": [],
   "source": [
    "# Load data from results.csv\n",
    "results = pd.read_csv('../data/results.csv')\n",
    "teams = pd.read_csv('../data/teams.csv')\n",
    "# Define the outcome variable\n",
    "results['Outcome'] = results.apply(\n",
    "    lambda row: 'HomeWin' if row['HomeScore'] > row['AwayScore'] \n",
    "    else ('Draw' if row['HomeScore'] == row['AwayScore'] else 'AwayWin'), axis=1\n",
    ")"
   ]
  },
  {
   "cell_type": "code",
   "execution_count": 4,
   "metadata": {},
   "outputs": [],
   "source": [
    "def results_points(a, b):\n",
    "    \"\"\" Win, lose, draw 3, 0, 1 \"\"\"\n",
    "    if a > b:\n",
    "        return [3, 0]\n",
    "    if b > a:\n",
    "        return [0, 3]\n",
    "    if b == a:\n",
    "        return [1, 1]\n",
    "    else:\n",
    "        return ValueError"
   ]
  },
  {
   "cell_type": "code",
   "execution_count": 5,
   "metadata": {},
   "outputs": [],
   "source": [
    "results['Points'] = results.apply(lambda row: results_points(row['HomeScore'], row['AwayScore']), axis=1)\n",
    "results[['HomePoints', 'AwayPoints']] = pd.DataFrame(results['Points'].tolist(), index=results.index)"
   ]
  },
  {
   "cell_type": "code",
   "execution_count": 6,
   "metadata": {},
   "outputs": [],
   "source": [
    "season1 = results[results['SeasonID']==1]"
   ]
  },
  {
   "cell_type": "code",
   "execution_count": 7,
   "metadata": {},
   "outputs": [],
   "source": [
    "def get_points_by_week(df):\n",
    "    new_df = df.copy()\n",
    "    home = new_df[['Gameweek', 'HomeTeamID', 'HomePoints', 'HomeScore', 'AwayScore']].copy()\n",
    "    away = new_df[['Gameweek', 'AwayTeamID', 'AwayPoints', 'AwayScore', 'HomeScore']].copy()\n",
    "    cols = ['Gameweek', 'ID', 'Points', 'For', 'Against']\n",
    "    home.columns = cols\n",
    "    away.columns = cols\n",
    "    points_by_week = pd.concat([home, away])\n",
    "    return points_by_week"
   ]
  },
  {
   "cell_type": "code",
   "execution_count": 8,
   "metadata": {},
   "outputs": [],
   "source": [
    "points_by_week_s1 = get_points_by_week(season1)"
   ]
  },
  {
   "cell_type": "code",
   "execution_count": 9,
   "metadata": {},
   "outputs": [
    {
     "data": {
      "text/html": [
       "<div>\n",
       "<style scoped>\n",
       "    .dataframe tbody tr th:only-of-type {\n",
       "        vertical-align: middle;\n",
       "    }\n",
       "\n",
       "    .dataframe tbody tr th {\n",
       "        vertical-align: top;\n",
       "    }\n",
       "\n",
       "    .dataframe thead th {\n",
       "        text-align: right;\n",
       "    }\n",
       "</style>\n",
       "<table border=\"1\" class=\"dataframe\">\n",
       "  <thead>\n",
       "    <tr style=\"text-align: right;\">\n",
       "      <th></th>\n",
       "      <th>TeamName</th>\n",
       "      <th>Points</th>\n",
       "      <th>For</th>\n",
       "      <th>Against</th>\n",
       "      <th>GD</th>\n",
       "    </tr>\n",
       "  </thead>\n",
       "  <tbody>\n",
       "    <tr>\n",
       "      <th>0</th>\n",
       "      <td>Miami</td>\n",
       "      <td>138</td>\n",
       "      <td>159</td>\n",
       "      <td>41</td>\n",
       "      <td>118</td>\n",
       "    </tr>\n",
       "    <tr>\n",
       "      <th>1</th>\n",
       "      <td>Cincinnati</td>\n",
       "      <td>125</td>\n",
       "      <td>130</td>\n",
       "      <td>51</td>\n",
       "      <td>79</td>\n",
       "    </tr>\n",
       "    <tr>\n",
       "      <th>2</th>\n",
       "      <td>Baltimore</td>\n",
       "      <td>117</td>\n",
       "      <td>136</td>\n",
       "      <td>41</td>\n",
       "      <td>95</td>\n",
       "    </tr>\n",
       "    <tr>\n",
       "      <th>3</th>\n",
       "      <td>New York S</td>\n",
       "      <td>113</td>\n",
       "      <td>108</td>\n",
       "      <td>52</td>\n",
       "      <td>56</td>\n",
       "    </tr>\n",
       "    <tr>\n",
       "      <th>4</th>\n",
       "      <td>Boston</td>\n",
       "      <td>106</td>\n",
       "      <td>130</td>\n",
       "      <td>58</td>\n",
       "      <td>72</td>\n",
       "    </tr>\n",
       "  </tbody>\n",
       "</table>\n",
       "</div>"
      ],
      "text/plain": [
       "     TeamName  Points  For  Against   GD\n",
       "0       Miami     138  159       41  118\n",
       "1  Cincinnati     125  130       51   79\n",
       "2   Baltimore     117  136       41   95\n",
       "3  New York S     113  108       52   56\n",
       "4      Boston     106  130       58   72"
      ]
     },
     "execution_count": 9,
     "metadata": {},
     "output_type": "execute_result"
    }
   ],
   "source": [
    "# Sum points over all weeks by Team\n",
    "final_table_s1 = (points_by_week_s1.groupby(['ID']).agg({'Points': 'sum', 'For': 'sum', 'Against': 'sum'})\n",
    "               .reset_index()\n",
    "               .sort_values('Points', ascending=False)\n",
    "               )\n",
    "final_table_s1['GD'] = final_table_s1['For'] - final_table_s1['Against']\n",
    "final_table_s1 = final_table_s1.reset_index().drop('index', axis=1)\n",
    "\n",
    "final_table_s1 = pd.merge(final_table_s1, teams, left_on='ID', right_on='TeamID')\n",
    "final_table_s1[['TeamName', 'Points', 'For', 'Against', 'GD']].head(5)"
   ]
  },
  {
   "cell_type": "code",
   "execution_count": 10,
   "metadata": {},
   "outputs": [],
   "source": [
    "# Build a model\n",
    "# Each team has a latent strength parameter (e.g. last season's performance)\n",
    "# Outcome depends on this and randomness\n",
    "# Prior1 - strength prior: last season's performance\n",
    "# Prior2 - randomness of results. Use variance of their scores, results, goals, shots or something to do with\n",
    "# last season's odds - to start I will simply model prior2 as variation in scores."
   ]
  },
  {
   "cell_type": "code",
   "execution_count": 19,
   "metadata": {},
   "outputs": [],
   "source": [
    "import numpy as np\n",
    "import pandas as pd\n",
    "\n",
    "# Teams\n",
    "teams = ['A', 'B', 'C']\n",
    "\n",
    "# Define a mapping for outcomes: 0 - Draw, 1 - Team 1 wins, 2 - Team 2 wins\n",
    "outcome_mapping = {0: 'Draw', 1: 'Team 1 wins', 2: 'Team 2 wins'}\n",
    "\n",
    "# Sample data generation\n",
    "np.random.seed(42)\n",
    "num_games = 200\n",
    "data = []\n",
    "\n",
    "for _ in range(num_games):\n",
    "    team1, team2 = np.random.choice(teams, 2, replace=False)\n",
    "    outcome = np.random.choice([0, 1, 2], p=[0.3, 0.35, 0.35])  # Example probabilities for outcomes\n",
    "    data.append((team1, team2, outcome_mapping[outcome]))\n",
    "\n",
    "# Create a DataFrame for the data\n",
    "df_games = pd.DataFrame(data, columns=['Team1', 'Team2', 'Outcome'])"
   ]
  },
  {
   "cell_type": "code",
   "execution_count": 20,
   "metadata": {},
   "outputs": [
    {
     "data": {
      "text/html": [
       "<div>\n",
       "<style scoped>\n",
       "    .dataframe tbody tr th:only-of-type {\n",
       "        vertical-align: middle;\n",
       "    }\n",
       "\n",
       "    .dataframe tbody tr th {\n",
       "        vertical-align: top;\n",
       "    }\n",
       "\n",
       "    .dataframe thead th {\n",
       "        text-align: right;\n",
       "    }\n",
       "</style>\n",
       "<table border=\"1\" class=\"dataframe\">\n",
       "  <thead>\n",
       "    <tr style=\"text-align: right;\">\n",
       "      <th></th>\n",
       "      <th>Team1</th>\n",
       "      <th>Team2</th>\n",
       "      <th>Outcome</th>\n",
       "    </tr>\n",
       "  </thead>\n",
       "  <tbody>\n",
       "    <tr>\n",
       "      <th>0</th>\n",
       "      <td>A</td>\n",
       "      <td>B</td>\n",
       "      <td>Team 2 wins</td>\n",
       "    </tr>\n",
       "    <tr>\n",
       "      <th>1</th>\n",
       "      <td>A</td>\n",
       "      <td>B</td>\n",
       "      <td>Team 1 wins</td>\n",
       "    </tr>\n",
       "    <tr>\n",
       "      <th>2</th>\n",
       "      <td>A</td>\n",
       "      <td>B</td>\n",
       "      <td>Draw</td>\n",
       "    </tr>\n",
       "    <tr>\n",
       "      <th>3</th>\n",
       "      <td>B</td>\n",
       "      <td>A</td>\n",
       "      <td>Team 2 wins</td>\n",
       "    </tr>\n",
       "    <tr>\n",
       "      <th>4</th>\n",
       "      <td>A</td>\n",
       "      <td>B</td>\n",
       "      <td>Draw</td>\n",
       "    </tr>\n",
       "  </tbody>\n",
       "</table>\n",
       "</div>"
      ],
      "text/plain": [
       "  Team1 Team2      Outcome\n",
       "0     A     B  Team 2 wins\n",
       "1     A     B  Team 1 wins\n",
       "2     A     B         Draw\n",
       "3     B     A  Team 2 wins\n",
       "4     A     B         Draw"
      ]
     },
     "execution_count": 20,
     "metadata": {},
     "output_type": "execute_result"
    }
   ],
   "source": [
    "df_games.head()"
   ]
  },
  {
   "cell_type": "code",
   "execution_count": 21,
   "metadata": {},
   "outputs": [
    {
     "name": "stderr",
     "output_type": "stream",
     "text": [
      "Auto-assigning NUTS sampler...\n",
      "Initializing NUTS using jitter+adapt_diag...\n",
      "Multiprocess sampling (4 chains in 4 jobs)\n",
      "NUTS: [prior2, strength]\n"
     ]
    },
    {
     "data": {
      "text/html": [
       "\n",
       "    <div>\n",
       "        <style>\n",
       "            /* Turns off some styling */\n",
       "            progress {\n",
       "                /* gets rid of default border in Firefox and Opera. */\n",
       "                border: none;\n",
       "                /* Needs to be in here for Safari polyfill so background images work as expected. */\n",
       "                background-size: auto;\n",
       "            }\n",
       "            .progress-bar-interrupted, .progress-bar-interrupted::-webkit-progress-bar {\n",
       "                background: #F44336;\n",
       "            }\n",
       "        </style>\n",
       "      <progress value='12000' class='' max='12000' style='width:300px; height:20px; vertical-align: middle;'></progress>\n",
       "      100.00% [12000/12000 01:50<00:00 Sampling 4 chains, 208 divergences]\n",
       "    </div>\n",
       "    "
      ],
      "text/plain": [
       "<IPython.core.display.HTML object>"
      ]
     },
     "metadata": {},
     "output_type": "display_data"
    },
    {
     "name": "stderr",
     "output_type": "stream",
     "text": [
      "Sampling 4 chains for 1_000 tune and 2_000 draw iterations (4_000 + 8_000 draws total) took 167 seconds.\n",
      "There were 68 divergences after tuning. Increase `target_accept` or reparameterize.\n",
      "There were 89 divergences after tuning. Increase `target_accept` or reparameterize.\n",
      "The acceptance probability does not match the target. It is 0.655540292363794, but should be close to 0.8. Try to increase the number of tuning steps.\n",
      "There were 20 divergences after tuning. Increase `target_accept` or reparameterize.\n",
      "There were 31 divergences after tuning. Increase `target_accept` or reparameterize.\n",
      "The estimated number of effective samples is smaller than 200 for some parameters.\n"
     ]
    }
   ],
   "source": [
    "with pm.Model() as model:\n",
    "    # Priors for team strengths\n",
    "    strength = pm.Normal('strength', mu=0, sigma=1, shape=len(teams))\n",
    "    \n",
    "    # Prior for the variance parameter (prior2)\n",
    "    prior2 = pm.HalfNormal('prior2', sigma=1)\n",
    "    \n",
    "    # Likelihood function for the outcome probabilities\n",
    "    def outcome_prob(team1, team2):\n",
    "        diff = strength[team1] - strength[team2]\n",
    "        p_win = pm.math.sigmoid(diff / prior2)\n",
    "        p_draw = 0.1  # Fixed small probability for draw\n",
    "        return tt.stack([p_draw, p_win * (1 - p_draw), (1 - p_win) * (1 - p_draw)])\n",
    "    \n",
    "    # Iterate over each game and define likelihood\n",
    "    outcomes = []\n",
    "    for idx, game in df_games.iterrows():\n",
    "        team1_idx = teams.index(game['Team1'])\n",
    "        team2_idx = teams.index(game['Team2'])\n",
    "        observed_outcome = list(outcome_mapping.keys())[list(outcome_mapping.values()).index(game['Outcome'])]\n",
    "        outcome_probs = outcome_prob(team1_idx, team2_idx)\n",
    "        outcomes.append(pm.Categorical(f'outcome_{idx}', p=outcome_probs, observed=observed_outcome))\n",
    "    \n",
    "    # Inference\n",
    "    trace = pm.sample(2000, return_inferencedata=False)"
   ]
  },
  {
   "cell_type": "code",
   "execution_count": 28,
   "metadata": {},
   "outputs": [
    {
     "ename": "Timeout",
     "evalue": "The file lock 'C:\\Users\\chris\\AppData\\Local\\Theano\\compiledir_Windows-10-10.0.22631-SP0-Intel64_Family_6_Model_186_Stepping_2_GenuineIntel-3.10.14-64\\.lock' could not be acquired.",
     "output_type": "error",
     "traceback": [
      "\u001b[1;31m---------------------------------------------------------------------------\u001b[0m",
      "\u001b[1;31mTimeout\u001b[0m                                   Traceback (most recent call last)",
      "Cell \u001b[1;32mIn[28], line 56\u001b[0m\n\u001b[0;32m     54\u001b[0m     team1_idx \u001b[38;5;241m=\u001b[39m teams\u001b[38;5;241m.\u001b[39mindex(game[\u001b[38;5;124m'\u001b[39m\u001b[38;5;124mTeam1\u001b[39m\u001b[38;5;124m'\u001b[39m])\n\u001b[0;32m     55\u001b[0m     team2_idx \u001b[38;5;241m=\u001b[39m teams\u001b[38;5;241m.\u001b[39mindex(game[\u001b[38;5;124m'\u001b[39m\u001b[38;5;124mTeam2\u001b[39m\u001b[38;5;124m'\u001b[39m])\n\u001b[1;32m---> 56\u001b[0m     probs \u001b[38;5;241m=\u001b[39m \u001b[43mcompute_outcome_probabilities\u001b[49m\u001b[43m(\u001b[49m\u001b[43mtrace\u001b[49m\u001b[43m,\u001b[49m\u001b[43m \u001b[49m\u001b[43mteam1_idx\u001b[49m\u001b[43m,\u001b[49m\u001b[43m \u001b[49m\u001b[43mteam2_idx\u001b[49m\u001b[43m)\u001b[49m\n\u001b[0;32m     57\u001b[0m     predicted_probs\u001b[38;5;241m.\u001b[39mappend(probs)\n\u001b[0;32m     59\u001b[0m \u001b[38;5;66;03m# Create a DataFrame for the predicted probabilities\u001b[39;00m\n",
      "Cell \u001b[1;32mIn[28], line 34\u001b[0m, in \u001b[0;36mcompute_outcome_probabilities\u001b[1;34m(trace, team1, team2)\u001b[0m\n\u001b[0;32m     32\u001b[0m \u001b[38;5;28;01mfor\u001b[39;00m s, p2 \u001b[38;5;129;01min\u001b[39;00m \u001b[38;5;28mzip\u001b[39m(strength_samples, prior2_samples):\n\u001b[0;32m     33\u001b[0m     diff \u001b[38;5;241m=\u001b[39m s[team1] \u001b[38;5;241m-\u001b[39m s[team2]\n\u001b[1;32m---> 34\u001b[0m     p_win \u001b[38;5;241m=\u001b[39m \u001b[43mpm\u001b[49m\u001b[38;5;241;43m.\u001b[39;49m\u001b[43mmath\u001b[49m\u001b[38;5;241;43m.\u001b[39;49m\u001b[43msigmoid\u001b[49m\u001b[43m(\u001b[49m\u001b[43mdiff\u001b[49m\u001b[43m \u001b[49m\u001b[38;5;241;43m/\u001b[39;49m\u001b[43m \u001b[49m\u001b[43mp2\u001b[49m\u001b[43m)\u001b[49m\u001b[38;5;241;43m.\u001b[39;49m\u001b[43meval\u001b[49m\u001b[43m(\u001b[49m\u001b[43m)\u001b[49m  \u001b[38;5;66;03m# Compute win probability\u001b[39;00m\n\u001b[0;32m     35\u001b[0m     p_draw \u001b[38;5;241m=\u001b[39m p_draw_data  \u001b[38;5;66;03m# Use the observed data draw probability\u001b[39;00m\n\u001b[0;32m     36\u001b[0m     p_lose \u001b[38;5;241m=\u001b[39m \u001b[38;5;241m1\u001b[39m \u001b[38;5;241m-\u001b[39m p_win \u001b[38;5;241m-\u001b[39m p_draw  \u001b[38;5;66;03m# Compute lose probability\u001b[39;00m\n",
      "File \u001b[1;32mc:\\Users\\chris\\anaconda3\\envs\\bayes\\lib\\site-packages\\theano\\graph\\basic.py:554\u001b[0m, in \u001b[0;36mVariable.eval\u001b[1;34m(self, inputs_to_values)\u001b[0m\n\u001b[0;32m    552\u001b[0m inputs \u001b[38;5;241m=\u001b[39m \u001b[38;5;28mtuple\u001b[39m(\u001b[38;5;28msorted\u001b[39m(inputs_to_values\u001b[38;5;241m.\u001b[39mkeys(), key\u001b[38;5;241m=\u001b[39m\u001b[38;5;28mid\u001b[39m))\n\u001b[0;32m    553\u001b[0m \u001b[38;5;28;01mif\u001b[39;00m inputs \u001b[38;5;129;01mnot\u001b[39;00m \u001b[38;5;129;01min\u001b[39;00m \u001b[38;5;28mself\u001b[39m\u001b[38;5;241m.\u001b[39m_fn_cache:\n\u001b[1;32m--> 554\u001b[0m     \u001b[38;5;28mself\u001b[39m\u001b[38;5;241m.\u001b[39m_fn_cache[inputs] \u001b[38;5;241m=\u001b[39m \u001b[43mtheano\u001b[49m\u001b[38;5;241;43m.\u001b[39;49m\u001b[43mfunction\u001b[49m\u001b[43m(\u001b[49m\u001b[43minputs\u001b[49m\u001b[43m,\u001b[49m\u001b[43m \u001b[49m\u001b[38;5;28;43mself\u001b[39;49m\u001b[43m)\u001b[49m\n\u001b[0;32m    555\u001b[0m args \u001b[38;5;241m=\u001b[39m [inputs_to_values[param] \u001b[38;5;28;01mfor\u001b[39;00m param \u001b[38;5;129;01min\u001b[39;00m inputs]\n\u001b[0;32m    557\u001b[0m rval \u001b[38;5;241m=\u001b[39m \u001b[38;5;28mself\u001b[39m\u001b[38;5;241m.\u001b[39m_fn_cache[inputs](\u001b[38;5;241m*\u001b[39margs)\n",
      "File \u001b[1;32mc:\\Users\\chris\\anaconda3\\envs\\bayes\\lib\\site-packages\\theano\\compile\\function\\__init__.py:337\u001b[0m, in \u001b[0;36mfunction\u001b[1;34m(inputs, outputs, mode, updates, givens, no_default_updates, accept_inplace, name, rebuild_strict, allow_input_downcast, profile, on_unused_input)\u001b[0m\n\u001b[0;32m    331\u001b[0m     fn \u001b[38;5;241m=\u001b[39m orig_function(\n\u001b[0;32m    332\u001b[0m         inputs, outputs, mode\u001b[38;5;241m=\u001b[39mmode, accept_inplace\u001b[38;5;241m=\u001b[39maccept_inplace, name\u001b[38;5;241m=\u001b[39mname\n\u001b[0;32m    333\u001b[0m     )\n\u001b[0;32m    334\u001b[0m \u001b[38;5;28;01melse\u001b[39;00m:\n\u001b[0;32m    335\u001b[0m     \u001b[38;5;66;03m# note: pfunc will also call orig_function -- orig_function is\u001b[39;00m\n\u001b[0;32m    336\u001b[0m     \u001b[38;5;66;03m#      a choke point that all compilation must pass through\u001b[39;00m\n\u001b[1;32m--> 337\u001b[0m     fn \u001b[38;5;241m=\u001b[39m pfunc(\n\u001b[0;32m    338\u001b[0m         params\u001b[38;5;241m=\u001b[39minputs,\n\u001b[0;32m    339\u001b[0m         outputs\u001b[38;5;241m=\u001b[39moutputs,\n\u001b[0;32m    340\u001b[0m         mode\u001b[38;5;241m=\u001b[39mmode,\n\u001b[0;32m    341\u001b[0m         updates\u001b[38;5;241m=\u001b[39mupdates,\n\u001b[0;32m    342\u001b[0m         givens\u001b[38;5;241m=\u001b[39mgivens,\n\u001b[0;32m    343\u001b[0m         no_default_updates\u001b[38;5;241m=\u001b[39mno_default_updates,\n\u001b[0;32m    344\u001b[0m         accept_inplace\u001b[38;5;241m=\u001b[39maccept_inplace,\n\u001b[0;32m    345\u001b[0m         name\u001b[38;5;241m=\u001b[39mname,\n\u001b[0;32m    346\u001b[0m         rebuild_strict\u001b[38;5;241m=\u001b[39mrebuild_strict,\n\u001b[0;32m    347\u001b[0m         allow_input_downcast\u001b[38;5;241m=\u001b[39mallow_input_downcast,\n\u001b[0;32m    348\u001b[0m         on_unused_input\u001b[38;5;241m=\u001b[39mon_unused_input,\n\u001b[0;32m    349\u001b[0m         profile\u001b[38;5;241m=\u001b[39mprofile,\n\u001b[0;32m    350\u001b[0m         output_keys\u001b[38;5;241m=\u001b[39moutput_keys,\n\u001b[0;32m    351\u001b[0m     )\n\u001b[0;32m    352\u001b[0m \u001b[38;5;28;01mreturn\u001b[39;00m fn\n",
      "File \u001b[1;32mc:\\Users\\chris\\anaconda3\\envs\\bayes\\lib\\site-packages\\theano\\compile\\function\\pfunc.py:524\u001b[0m, in \u001b[0;36mpfunc\u001b[1;34m(params, outputs, mode, updates, givens, no_default_updates, accept_inplace, name, rebuild_strict, allow_input_downcast, profile, on_unused_input, output_keys)\u001b[0m\n\u001b[0;32m    519\u001b[0m         si \u001b[38;5;241m=\u001b[39m In(\n\u001b[0;32m    520\u001b[0m             variable\u001b[38;5;241m=\u001b[39msv, value\u001b[38;5;241m=\u001b[39msv\u001b[38;5;241m.\u001b[39mcontainer, mutable\u001b[38;5;241m=\u001b[39m\u001b[38;5;28;01mFalse\u001b[39;00m, borrow\u001b[38;5;241m=\u001b[39m\u001b[38;5;28;01mTrue\u001b[39;00m, shared\u001b[38;5;241m=\u001b[39m\u001b[38;5;28;01mTrue\u001b[39;00m\n\u001b[0;32m    521\u001b[0m         )\n\u001b[0;32m    522\u001b[0m     inputs\u001b[38;5;241m.\u001b[39mappend(si)\n\u001b[1;32m--> 524\u001b[0m \u001b[38;5;28;01mreturn\u001b[39;00m \u001b[43morig_function\u001b[49m\u001b[43m(\u001b[49m\n\u001b[0;32m    525\u001b[0m \u001b[43m    \u001b[49m\u001b[43minputs\u001b[49m\u001b[43m,\u001b[49m\n\u001b[0;32m    526\u001b[0m \u001b[43m    \u001b[49m\u001b[43mcloned_outputs\u001b[49m\u001b[43m,\u001b[49m\n\u001b[0;32m    527\u001b[0m \u001b[43m    \u001b[49m\u001b[43mmode\u001b[49m\u001b[43m,\u001b[49m\n\u001b[0;32m    528\u001b[0m \u001b[43m    \u001b[49m\u001b[43maccept_inplace\u001b[49m\u001b[38;5;241;43m=\u001b[39;49m\u001b[43maccept_inplace\u001b[49m\u001b[43m,\u001b[49m\n\u001b[0;32m    529\u001b[0m \u001b[43m    \u001b[49m\u001b[43mname\u001b[49m\u001b[38;5;241;43m=\u001b[39;49m\u001b[43mname\u001b[49m\u001b[43m,\u001b[49m\n\u001b[0;32m    530\u001b[0m \u001b[43m    \u001b[49m\u001b[43mprofile\u001b[49m\u001b[38;5;241;43m=\u001b[39;49m\u001b[43mprofile\u001b[49m\u001b[43m,\u001b[49m\n\u001b[0;32m    531\u001b[0m \u001b[43m    \u001b[49m\u001b[43mon_unused_input\u001b[49m\u001b[38;5;241;43m=\u001b[39;49m\u001b[43mon_unused_input\u001b[49m\u001b[43m,\u001b[49m\n\u001b[0;32m    532\u001b[0m \u001b[43m    \u001b[49m\u001b[43moutput_keys\u001b[49m\u001b[38;5;241;43m=\u001b[39;49m\u001b[43moutput_keys\u001b[49m\u001b[43m,\u001b[49m\n\u001b[0;32m    533\u001b[0m \u001b[43m\u001b[49m\u001b[43m)\u001b[49m\n",
      "File \u001b[1;32mc:\\Users\\chris\\anaconda3\\envs\\bayes\\lib\\site-packages\\theano\\compile\\function\\types.py:1981\u001b[0m, in \u001b[0;36morig_function\u001b[1;34m(inputs, outputs, mode, accept_inplace, name, profile, on_unused_input, output_keys)\u001b[0m\n\u001b[0;32m   1970\u001b[0m     m \u001b[38;5;241m=\u001b[39m Maker(\n\u001b[0;32m   1971\u001b[0m         inputs,\n\u001b[0;32m   1972\u001b[0m         outputs,\n\u001b[1;32m   (...)\u001b[0m\n\u001b[0;32m   1978\u001b[0m         name\u001b[38;5;241m=\u001b[39mname,\n\u001b[0;32m   1979\u001b[0m     )\n\u001b[0;32m   1980\u001b[0m     \u001b[38;5;28;01mwith\u001b[39;00m config\u001b[38;5;241m.\u001b[39mchange_flags(compute_test_value\u001b[38;5;241m=\u001b[39m\u001b[38;5;124m\"\u001b[39m\u001b[38;5;124moff\u001b[39m\u001b[38;5;124m\"\u001b[39m):\n\u001b[1;32m-> 1981\u001b[0m         fn \u001b[38;5;241m=\u001b[39m \u001b[43mm\u001b[49m\u001b[38;5;241;43m.\u001b[39;49m\u001b[43mcreate\u001b[49m\u001b[43m(\u001b[49m\u001b[43mdefaults\u001b[49m\u001b[43m)\u001b[49m\n\u001b[0;32m   1982\u001b[0m \u001b[38;5;28;01mfinally\u001b[39;00m:\n\u001b[0;32m   1983\u001b[0m     t2 \u001b[38;5;241m=\u001b[39m time\u001b[38;5;241m.\u001b[39mtime()\n",
      "File \u001b[1;32mc:\\Users\\chris\\anaconda3\\envs\\bayes\\lib\\site-packages\\theano\\compile\\function\\types.py:1836\u001b[0m, in \u001b[0;36mFunctionMaker.create\u001b[1;34m(self, input_storage, trustme, storage_map)\u001b[0m\n\u001b[0;32m   1833\u001b[0m start_import_time \u001b[38;5;241m=\u001b[39m theano\u001b[38;5;241m.\u001b[39mlink\u001b[38;5;241m.\u001b[39mc\u001b[38;5;241m.\u001b[39mcmodule\u001b[38;5;241m.\u001b[39mimport_time\n\u001b[0;32m   1835\u001b[0m \u001b[38;5;28;01mwith\u001b[39;00m config\u001b[38;5;241m.\u001b[39mchange_flags(traceback__limit\u001b[38;5;241m=\u001b[39mconfig\u001b[38;5;241m.\u001b[39mtraceback__compile_limit):\n\u001b[1;32m-> 1836\u001b[0m     _fn, _i, _o \u001b[38;5;241m=\u001b[39m \u001b[38;5;28;43mself\u001b[39;49m\u001b[38;5;241;43m.\u001b[39;49m\u001b[43mlinker\u001b[49m\u001b[38;5;241;43m.\u001b[39;49m\u001b[43mmake_thunk\u001b[49m\u001b[43m(\u001b[49m\n\u001b[0;32m   1837\u001b[0m \u001b[43m        \u001b[49m\u001b[43minput_storage\u001b[49m\u001b[38;5;241;43m=\u001b[39;49m\u001b[43minput_storage_lists\u001b[49m\u001b[43m,\u001b[49m\u001b[43m \u001b[49m\u001b[43mstorage_map\u001b[49m\u001b[38;5;241;43m=\u001b[39;49m\u001b[43mstorage_map\u001b[49m\n\u001b[0;32m   1838\u001b[0m \u001b[43m    \u001b[49m\u001b[43m)\u001b[49m\n\u001b[0;32m   1840\u001b[0m end_linker \u001b[38;5;241m=\u001b[39m time\u001b[38;5;241m.\u001b[39mtime()\n\u001b[0;32m   1842\u001b[0m linker_time \u001b[38;5;241m=\u001b[39m end_linker \u001b[38;5;241m-\u001b[39m start_linker\n",
      "File \u001b[1;32mc:\\Users\\chris\\anaconda3\\envs\\bayes\\lib\\site-packages\\theano\\link\\basic.py:266\u001b[0m, in \u001b[0;36mLocalLinker.make_thunk\u001b[1;34m(self, input_storage, output_storage, storage_map)\u001b[0m\n\u001b[0;32m    265\u001b[0m \u001b[38;5;28;01mdef\u001b[39;00m \u001b[38;5;21mmake_thunk\u001b[39m(\u001b[38;5;28mself\u001b[39m, input_storage\u001b[38;5;241m=\u001b[39m\u001b[38;5;28;01mNone\u001b[39;00m, output_storage\u001b[38;5;241m=\u001b[39m\u001b[38;5;28;01mNone\u001b[39;00m, storage_map\u001b[38;5;241m=\u001b[39m\u001b[38;5;28;01mNone\u001b[39;00m):\n\u001b[1;32m--> 266\u001b[0m     \u001b[38;5;28;01mreturn\u001b[39;00m \u001b[38;5;28;43mself\u001b[39;49m\u001b[38;5;241;43m.\u001b[39;49m\u001b[43mmake_all\u001b[49m\u001b[43m(\u001b[49m\n\u001b[0;32m    267\u001b[0m \u001b[43m        \u001b[49m\u001b[43minput_storage\u001b[49m\u001b[38;5;241;43m=\u001b[39;49m\u001b[43minput_storage\u001b[49m\u001b[43m,\u001b[49m\n\u001b[0;32m    268\u001b[0m \u001b[43m        \u001b[49m\u001b[43moutput_storage\u001b[49m\u001b[38;5;241;43m=\u001b[39;49m\u001b[43moutput_storage\u001b[49m\u001b[43m,\u001b[49m\n\u001b[0;32m    269\u001b[0m \u001b[43m        \u001b[49m\u001b[43mstorage_map\u001b[49m\u001b[38;5;241;43m=\u001b[39;49m\u001b[43mstorage_map\u001b[49m\u001b[43m,\u001b[49m\n\u001b[0;32m    270\u001b[0m \u001b[43m    \u001b[49m\u001b[43m)\u001b[49m[:\u001b[38;5;241m3\u001b[39m]\n",
      "File \u001b[1;32mc:\\Users\\chris\\anaconda3\\envs\\bayes\\lib\\site-packages\\theano\\link\\vm.py:1131\u001b[0m, in \u001b[0;36mVMLinker.make_all\u001b[1;34m(self, profiler, input_storage, output_storage, storage_map)\u001b[0m\n\u001b[0;32m   1126\u001b[0m thunk_start \u001b[38;5;241m=\u001b[39m time\u001b[38;5;241m.\u001b[39mtime()\n\u001b[0;32m   1127\u001b[0m \u001b[38;5;66;03m# no-recycling is done at each VM.__call__ So there is\u001b[39;00m\n\u001b[0;32m   1128\u001b[0m \u001b[38;5;66;03m# no need to cause duplicate c code by passing\u001b[39;00m\n\u001b[0;32m   1129\u001b[0m \u001b[38;5;66;03m# no_recycling here.\u001b[39;00m\n\u001b[0;32m   1130\u001b[0m thunks\u001b[38;5;241m.\u001b[39mappend(\n\u001b[1;32m-> 1131\u001b[0m     node\u001b[38;5;241m.\u001b[39mop\u001b[38;5;241m.\u001b[39mmake_thunk(node, storage_map, compute_map, [], impl\u001b[38;5;241m=\u001b[39mimpl)\n\u001b[0;32m   1132\u001b[0m )\n\u001b[0;32m   1133\u001b[0m linker_make_thunk_time[node] \u001b[38;5;241m=\u001b[39m time\u001b[38;5;241m.\u001b[39mtime() \u001b[38;5;241m-\u001b[39m thunk_start\n\u001b[0;32m   1134\u001b[0m \u001b[38;5;28;01mif\u001b[39;00m \u001b[38;5;129;01mnot\u001b[39;00m \u001b[38;5;28mhasattr\u001b[39m(thunks[\u001b[38;5;241m-\u001b[39m\u001b[38;5;241m1\u001b[39m], \u001b[38;5;124m\"\u001b[39m\u001b[38;5;124mlazy\u001b[39m\u001b[38;5;124m\"\u001b[39m):\n\u001b[0;32m   1135\u001b[0m     \u001b[38;5;66;03m# We don't want all ops maker to think about lazy Ops.\u001b[39;00m\n\u001b[0;32m   1136\u001b[0m     \u001b[38;5;66;03m# So if they didn't specify that its lazy or not, it isn't.\u001b[39;00m\n\u001b[0;32m   1137\u001b[0m     \u001b[38;5;66;03m# If this member isn't present, it will crash later.\u001b[39;00m\n",
      "File \u001b[1;32mc:\\Users\\chris\\anaconda3\\envs\\bayes\\lib\\site-packages\\theano\\graph\\op.py:634\u001b[0m, in \u001b[0;36mCOp.make_thunk\u001b[1;34m(self, node, storage_map, compute_map, no_recycling, impl)\u001b[0m\n\u001b[0;32m    630\u001b[0m \u001b[38;5;28mself\u001b[39m\u001b[38;5;241m.\u001b[39mprepare_node(\n\u001b[0;32m    631\u001b[0m     node, storage_map\u001b[38;5;241m=\u001b[39mstorage_map, compute_map\u001b[38;5;241m=\u001b[39mcompute_map, impl\u001b[38;5;241m=\u001b[39m\u001b[38;5;124m\"\u001b[39m\u001b[38;5;124mc\u001b[39m\u001b[38;5;124m\"\u001b[39m\n\u001b[0;32m    632\u001b[0m )\n\u001b[0;32m    633\u001b[0m \u001b[38;5;28;01mtry\u001b[39;00m:\n\u001b[1;32m--> 634\u001b[0m     \u001b[38;5;28;01mreturn\u001b[39;00m \u001b[38;5;28;43mself\u001b[39;49m\u001b[38;5;241;43m.\u001b[39;49m\u001b[43mmake_c_thunk\u001b[49m\u001b[43m(\u001b[49m\u001b[43mnode\u001b[49m\u001b[43m,\u001b[49m\u001b[43m \u001b[49m\u001b[43mstorage_map\u001b[49m\u001b[43m,\u001b[49m\u001b[43m \u001b[49m\u001b[43mcompute_map\u001b[49m\u001b[43m,\u001b[49m\u001b[43m \u001b[49m\u001b[43mno_recycling\u001b[49m\u001b[43m)\u001b[49m\n\u001b[0;32m    635\u001b[0m \u001b[38;5;28;01mexcept\u001b[39;00m (\u001b[38;5;167;01mNotImplementedError\u001b[39;00m, MethodNotDefined):\n\u001b[0;32m    636\u001b[0m     \u001b[38;5;66;03m# We requested the c code, so don't catch the error.\u001b[39;00m\n\u001b[0;32m    637\u001b[0m     \u001b[38;5;28;01mif\u001b[39;00m impl \u001b[38;5;241m==\u001b[39m \u001b[38;5;124m\"\u001b[39m\u001b[38;5;124mc\u001b[39m\u001b[38;5;124m\"\u001b[39m:\n",
      "File \u001b[1;32mc:\\Users\\chris\\anaconda3\\envs\\bayes\\lib\\site-packages\\theano\\graph\\op.py:600\u001b[0m, in \u001b[0;36mCOp.make_c_thunk\u001b[1;34m(self, node, storage_map, compute_map, no_recycling)\u001b[0m\n\u001b[0;32m    598\u001b[0m         \u001b[38;5;28mprint\u001b[39m(\u001b[38;5;124mf\u001b[39m\u001b[38;5;124m\"\u001b[39m\u001b[38;5;124mDisabling C code for \u001b[39m\u001b[38;5;132;01m{\u001b[39;00m\u001b[38;5;28mself\u001b[39m\u001b[38;5;132;01m}\u001b[39;00m\u001b[38;5;124m due to unsupported float16\u001b[39m\u001b[38;5;124m\"\u001b[39m)\n\u001b[0;32m    599\u001b[0m         \u001b[38;5;28;01mraise\u001b[39;00m \u001b[38;5;167;01mNotImplementedError\u001b[39;00m(\u001b[38;5;124m\"\u001b[39m\u001b[38;5;124mfloat16\u001b[39m\u001b[38;5;124m\"\u001b[39m)\n\u001b[1;32m--> 600\u001b[0m outputs \u001b[38;5;241m=\u001b[39m \u001b[43mcl\u001b[49m\u001b[38;5;241;43m.\u001b[39;49m\u001b[43mmake_thunk\u001b[49m\u001b[43m(\u001b[49m\n\u001b[0;32m    601\u001b[0m \u001b[43m    \u001b[49m\u001b[43minput_storage\u001b[49m\u001b[38;5;241;43m=\u001b[39;49m\u001b[43mnode_input_storage\u001b[49m\u001b[43m,\u001b[49m\u001b[43m \u001b[49m\u001b[43moutput_storage\u001b[49m\u001b[38;5;241;43m=\u001b[39;49m\u001b[43mnode_output_storage\u001b[49m\n\u001b[0;32m    602\u001b[0m \u001b[43m\u001b[49m\u001b[43m)\u001b[49m\n\u001b[0;32m    603\u001b[0m thunk, node_input_filters, node_output_filters \u001b[38;5;241m=\u001b[39m outputs\n\u001b[0;32m    605\u001b[0m \u001b[38;5;28;01mdef\u001b[39;00m \u001b[38;5;21mrval\u001b[39m():\n",
      "File \u001b[1;32mc:\\Users\\chris\\anaconda3\\envs\\bayes\\lib\\site-packages\\theano\\link\\c\\basic.py:1203\u001b[0m, in \u001b[0;36mCLinker.make_thunk\u001b[1;34m(self, input_storage, output_storage, storage_map)\u001b[0m\n\u001b[0;32m   1175\u001b[0m \u001b[38;5;250m\u001b[39m\u001b[38;5;124;03m\"\"\"\u001b[39;00m\n\u001b[0;32m   1176\u001b[0m \u001b[38;5;124;03mCompiles this linker's fgraph and returns a function to perform the\u001b[39;00m\n\u001b[0;32m   1177\u001b[0m \u001b[38;5;124;03mcomputations, as well as lists of storage cells for both the inputs\u001b[39;00m\n\u001b[1;32m   (...)\u001b[0m\n\u001b[0;32m   1200\u001b[0m \u001b[38;5;124;03m  first_output = ostor[0].data\u001b[39;00m\n\u001b[0;32m   1201\u001b[0m \u001b[38;5;124;03m\"\"\"\u001b[39;00m\n\u001b[0;32m   1202\u001b[0m init_tasks, tasks \u001b[38;5;241m=\u001b[39m \u001b[38;5;28mself\u001b[39m\u001b[38;5;241m.\u001b[39mget_init_tasks()\n\u001b[1;32m-> 1203\u001b[0m cthunk, module, in_storage, out_storage, error_storage \u001b[38;5;241m=\u001b[39m \u001b[38;5;28;43mself\u001b[39;49m\u001b[38;5;241;43m.\u001b[39;49m\u001b[43m__compile__\u001b[49m\u001b[43m(\u001b[49m\n\u001b[0;32m   1204\u001b[0m \u001b[43m    \u001b[49m\u001b[43minput_storage\u001b[49m\u001b[43m,\u001b[49m\u001b[43m \u001b[49m\u001b[43moutput_storage\u001b[49m\u001b[43m,\u001b[49m\u001b[43m \u001b[49m\u001b[43mstorage_map\u001b[49m\n\u001b[0;32m   1205\u001b[0m \u001b[43m\u001b[49m\u001b[43m)\u001b[49m\n\u001b[0;32m   1207\u001b[0m res \u001b[38;5;241m=\u001b[39m _CThunk(cthunk, init_tasks, tasks, error_storage, module)\n\u001b[0;32m   1208\u001b[0m res\u001b[38;5;241m.\u001b[39mnodes \u001b[38;5;241m=\u001b[39m \u001b[38;5;28mself\u001b[39m\u001b[38;5;241m.\u001b[39mnode_order\n",
      "File \u001b[1;32mc:\\Users\\chris\\anaconda3\\envs\\bayes\\lib\\site-packages\\theano\\link\\c\\basic.py:1138\u001b[0m, in \u001b[0;36mCLinker.__compile__\u001b[1;34m(self, input_storage, output_storage, storage_map)\u001b[0m\n\u001b[0;32m   1136\u001b[0m input_storage \u001b[38;5;241m=\u001b[39m \u001b[38;5;28mtuple\u001b[39m(input_storage)\n\u001b[0;32m   1137\u001b[0m output_storage \u001b[38;5;241m=\u001b[39m \u001b[38;5;28mtuple\u001b[39m(output_storage)\n\u001b[1;32m-> 1138\u001b[0m thunk, module \u001b[38;5;241m=\u001b[39m \u001b[38;5;28;43mself\u001b[39;49m\u001b[38;5;241;43m.\u001b[39;49m\u001b[43mcthunk_factory\u001b[49m\u001b[43m(\u001b[49m\n\u001b[0;32m   1139\u001b[0m \u001b[43m    \u001b[49m\u001b[43merror_storage\u001b[49m\u001b[43m,\u001b[49m\n\u001b[0;32m   1140\u001b[0m \u001b[43m    \u001b[49m\u001b[43minput_storage\u001b[49m\u001b[43m,\u001b[49m\n\u001b[0;32m   1141\u001b[0m \u001b[43m    \u001b[49m\u001b[43moutput_storage\u001b[49m\u001b[43m,\u001b[49m\n\u001b[0;32m   1142\u001b[0m \u001b[43m    \u001b[49m\u001b[43mstorage_map\u001b[49m\u001b[43m,\u001b[49m\n\u001b[0;32m   1143\u001b[0m \u001b[43m\u001b[49m\u001b[43m)\u001b[49m\n\u001b[0;32m   1144\u001b[0m \u001b[38;5;28;01mreturn\u001b[39;00m (\n\u001b[0;32m   1145\u001b[0m     thunk,\n\u001b[0;32m   1146\u001b[0m     module,\n\u001b[1;32m   (...)\u001b[0m\n\u001b[0;32m   1155\u001b[0m     error_storage,\n\u001b[0;32m   1156\u001b[0m )\n",
      "File \u001b[1;32mc:\\Users\\chris\\anaconda3\\envs\\bayes\\lib\\site-packages\\theano\\link\\c\\basic.py:1634\u001b[0m, in \u001b[0;36mCLinker.cthunk_factory\u001b[1;34m(self, error_storage, in_storage, out_storage, storage_map)\u001b[0m\n\u001b[0;32m   1632\u001b[0m     \u001b[38;5;28;01mfor\u001b[39;00m node \u001b[38;5;129;01min\u001b[39;00m \u001b[38;5;28mself\u001b[39m\u001b[38;5;241m.\u001b[39mnode_order:\n\u001b[0;32m   1633\u001b[0m         node\u001b[38;5;241m.\u001b[39mop\u001b[38;5;241m.\u001b[39mprepare_node(node, storage_map, \u001b[38;5;28;01mNone\u001b[39;00m, \u001b[38;5;124m\"\u001b[39m\u001b[38;5;124mc\u001b[39m\u001b[38;5;124m\"\u001b[39m)\n\u001b[1;32m-> 1634\u001b[0m     module \u001b[38;5;241m=\u001b[39m \u001b[43mget_module_cache\u001b[49m\u001b[43m(\u001b[49m\u001b[43m)\u001b[49m\u001b[38;5;241;43m.\u001b[39;49m\u001b[43mmodule_from_key\u001b[49m\u001b[43m(\u001b[49m\u001b[43mkey\u001b[49m\u001b[38;5;241;43m=\u001b[39;49m\u001b[43mkey\u001b[49m\u001b[43m,\u001b[49m\u001b[43m \u001b[49m\u001b[43mlnk\u001b[49m\u001b[38;5;241;43m=\u001b[39;49m\u001b[38;5;28;43mself\u001b[39;49m\u001b[43m)\u001b[49m\n\u001b[0;32m   1636\u001b[0m \u001b[38;5;28mvars\u001b[39m \u001b[38;5;241m=\u001b[39m \u001b[38;5;28mself\u001b[39m\u001b[38;5;241m.\u001b[39minputs \u001b[38;5;241m+\u001b[39m \u001b[38;5;28mself\u001b[39m\u001b[38;5;241m.\u001b[39moutputs \u001b[38;5;241m+\u001b[39m \u001b[38;5;28mself\u001b[39m\u001b[38;5;241m.\u001b[39morphans\n\u001b[0;32m   1637\u001b[0m \u001b[38;5;66;03m# List of indices that should be ignored when passing the arguments\u001b[39;00m\n\u001b[0;32m   1638\u001b[0m \u001b[38;5;66;03m# (basically, everything that the previous call to uniq eliminated)\u001b[39;00m\n",
      "File \u001b[1;32mc:\\Users\\chris\\anaconda3\\envs\\bayes\\lib\\site-packages\\theano\\link\\c\\cmodule.py:1157\u001b[0m, in \u001b[0;36mModuleCache.module_from_key\u001b[1;34m(self, key, lnk)\u001b[0m\n\u001b[0;32m   1155\u001b[0m \u001b[38;5;66;03m# Is the source code already in the cache?\u001b[39;00m\n\u001b[0;32m   1156\u001b[0m module_hash \u001b[38;5;241m=\u001b[39m get_module_hash(src_code, key)\n\u001b[1;32m-> 1157\u001b[0m module \u001b[38;5;241m=\u001b[39m \u001b[38;5;28;43mself\u001b[39;49m\u001b[38;5;241;43m.\u001b[39;49m\u001b[43m_get_from_hash\u001b[49m\u001b[43m(\u001b[49m\u001b[43mmodule_hash\u001b[49m\u001b[43m,\u001b[49m\u001b[43m \u001b[49m\u001b[43mkey\u001b[49m\u001b[43m)\u001b[49m\n\u001b[0;32m   1158\u001b[0m \u001b[38;5;28;01mif\u001b[39;00m module \u001b[38;5;129;01mis\u001b[39;00m \u001b[38;5;129;01mnot\u001b[39;00m \u001b[38;5;28;01mNone\u001b[39;00m:\n\u001b[0;32m   1159\u001b[0m     \u001b[38;5;28;01mreturn\u001b[39;00m module\n",
      "File \u001b[1;32mc:\\Users\\chris\\anaconda3\\envs\\bayes\\lib\\site-packages\\theano\\link\\c\\cmodule.py:1058\u001b[0m, in \u001b[0;36mModuleCache._get_from_hash\u001b[1;34m(self, module_hash, key)\u001b[0m\n\u001b[0;32m   1056\u001b[0m key_data \u001b[38;5;241m=\u001b[39m \u001b[38;5;28mself\u001b[39m\u001b[38;5;241m.\u001b[39mmodule_hash_to_key_data[module_hash]\n\u001b[0;32m   1057\u001b[0m module \u001b[38;5;241m=\u001b[39m \u001b[38;5;28mself\u001b[39m\u001b[38;5;241m.\u001b[39m_get_from_key(\u001b[38;5;28;01mNone\u001b[39;00m, key_data)\n\u001b[1;32m-> 1058\u001b[0m \u001b[38;5;28;01mwith\u001b[39;00m lock_ctx():\n\u001b[0;32m   1059\u001b[0m     \u001b[38;5;28;01mtry\u001b[39;00m:\n\u001b[0;32m   1060\u001b[0m         key_data\u001b[38;5;241m.\u001b[39madd_key(key, save_pkl\u001b[38;5;241m=\u001b[39m\u001b[38;5;28mbool\u001b[39m(key[\u001b[38;5;241m0\u001b[39m]))\n",
      "File \u001b[1;32mc:\\Users\\chris\\anaconda3\\envs\\bayes\\lib\\contextlib.py:135\u001b[0m, in \u001b[0;36m_GeneratorContextManager.__enter__\u001b[1;34m(self)\u001b[0m\n\u001b[0;32m    133\u001b[0m \u001b[38;5;28;01mdel\u001b[39;00m \u001b[38;5;28mself\u001b[39m\u001b[38;5;241m.\u001b[39margs, \u001b[38;5;28mself\u001b[39m\u001b[38;5;241m.\u001b[39mkwds, \u001b[38;5;28mself\u001b[39m\u001b[38;5;241m.\u001b[39mfunc\n\u001b[0;32m    134\u001b[0m \u001b[38;5;28;01mtry\u001b[39;00m:\n\u001b[1;32m--> 135\u001b[0m     \u001b[38;5;28;01mreturn\u001b[39;00m \u001b[38;5;28;43mnext\u001b[39;49m\u001b[43m(\u001b[49m\u001b[38;5;28;43mself\u001b[39;49m\u001b[38;5;241;43m.\u001b[39;49m\u001b[43mgen\u001b[49m\u001b[43m)\u001b[49m\n\u001b[0;32m    136\u001b[0m \u001b[38;5;28;01mexcept\u001b[39;00m \u001b[38;5;167;01mStopIteration\u001b[39;00m:\n\u001b[0;32m    137\u001b[0m     \u001b[38;5;28;01mraise\u001b[39;00m \u001b[38;5;167;01mRuntimeError\u001b[39;00m(\u001b[38;5;124m\"\u001b[39m\u001b[38;5;124mgenerator didn\u001b[39m\u001b[38;5;124m'\u001b[39m\u001b[38;5;124mt yield\u001b[39m\u001b[38;5;124m\"\u001b[39m) \u001b[38;5;28;01mfrom\u001b[39;00m \u001b[38;5;28;01mNone\u001b[39;00m\n",
      "File \u001b[1;32mc:\\Users\\chris\\anaconda3\\envs\\bayes\\lib\\site-packages\\theano\\compile\\compilelock.py:73\u001b[0m, in \u001b[0;36mlock_ctx\u001b[1;34m(lock_dir, timeout)\u001b[0m\n\u001b[0;32m     71\u001b[0m local_mem\u001b[38;5;241m.\u001b[39m_locks[dir_key] \u001b[38;5;241m=\u001b[39m \u001b[38;5;28;01mTrue\u001b[39;00m\n\u001b[0;32m     72\u001b[0m fl \u001b[38;5;241m=\u001b[39m filelock\u001b[38;5;241m.\u001b[39mFileLock(os\u001b[38;5;241m.\u001b[39mpath\u001b[38;5;241m.\u001b[39mjoin(lock_dir, \u001b[38;5;124m\"\u001b[39m\u001b[38;5;124m.lock\u001b[39m\u001b[38;5;124m\"\u001b[39m))\n\u001b[1;32m---> 73\u001b[0m \u001b[43mfl\u001b[49m\u001b[38;5;241;43m.\u001b[39;49m\u001b[43macquire\u001b[49m\u001b[43m(\u001b[49m\u001b[43mtimeout\u001b[49m\u001b[38;5;241;43m=\u001b[39;49m\u001b[43mtimeout\u001b[49m\u001b[43m)\u001b[49m\n\u001b[0;32m     74\u001b[0m \u001b[38;5;28;01mtry\u001b[39;00m:\n\u001b[0;32m     75\u001b[0m     \u001b[38;5;28;01myield\u001b[39;00m\n",
      "File \u001b[1;32mc:\\Users\\chris\\anaconda3\\envs\\bayes\\lib\\site-packages\\filelock\\_api.py:264\u001b[0m, in \u001b[0;36mBaseFileLock.acquire\u001b[1;34m(self, timeout, poll_interval, poll_intervall, blocking)\u001b[0m\n\u001b[0;32m    262\u001b[0m \u001b[38;5;28;01mif\u001b[39;00m \u001b[38;5;241m0\u001b[39m \u001b[38;5;241m<\u001b[39m\u001b[38;5;241m=\u001b[39m timeout \u001b[38;5;241m<\u001b[39m time\u001b[38;5;241m.\u001b[39mperf_counter() \u001b[38;5;241m-\u001b[39m start_time:\n\u001b[0;32m    263\u001b[0m     _LOGGER\u001b[38;5;241m.\u001b[39mdebug(\u001b[38;5;124m\"\u001b[39m\u001b[38;5;124mTimeout on acquiring lock \u001b[39m\u001b[38;5;132;01m%s\u001b[39;00m\u001b[38;5;124m on \u001b[39m\u001b[38;5;132;01m%s\u001b[39;00m\u001b[38;5;124m\"\u001b[39m, lock_id, lock_filename)\n\u001b[1;32m--> 264\u001b[0m     \u001b[38;5;28;01mraise\u001b[39;00m Timeout(lock_filename)  \u001b[38;5;66;03m# noqa: TRY301\u001b[39;00m\n\u001b[0;32m    265\u001b[0m msg \u001b[38;5;241m=\u001b[39m \u001b[38;5;124m\"\u001b[39m\u001b[38;5;124mLock \u001b[39m\u001b[38;5;132;01m%s\u001b[39;00m\u001b[38;5;124m not acquired on \u001b[39m\u001b[38;5;132;01m%s\u001b[39;00m\u001b[38;5;124m, waiting \u001b[39m\u001b[38;5;132;01m%s\u001b[39;00m\u001b[38;5;124m seconds ...\u001b[39m\u001b[38;5;124m\"\u001b[39m\n\u001b[0;32m    266\u001b[0m _LOGGER\u001b[38;5;241m.\u001b[39mdebug(msg, lock_id, lock_filename, poll_interval)\n",
      "\u001b[1;31mTimeout\u001b[0m: The file lock 'C:\\Users\\chris\\AppData\\Local\\Theano\\compiledir_Windows-10-10.0.22631-SP0-Intel64_Family_6_Model_186_Stepping_2_GenuineIntel-3.10.14-64\\.lock' could not be acquired."
     ]
    }
   ],
   "source": [
    "import numpy as np\n",
    "import pandas as pd\n",
    "import pymc3 as pm\n",
    "import theano.tensor as tt\n",
    "\n",
    "# Define the teams\n",
    "teams = ['A', 'B', 'C']\n",
    "\n",
    "# Generate a new sample of 20 games\n",
    "np.random.seed(42)  # For reproducibility\n",
    "num_new_games = 20\n",
    "new_game_data = []\n",
    "\n",
    "for _ in range(num_new_games):\n",
    "    team1, team2 = np.random.choice(teams, 2, replace=False)\n",
    "    new_game_data.append((team1, team2))\n",
    "\n",
    "# Create a DataFrame for the new games\n",
    "df_new_games = pd.DataFrame(new_game_data, columns=['Team1', 'Team2'])\n",
    "outcome_counts = df_games['Outcome'].value_counts(normalize=True)\n",
    "p_draw_data = outcome_counts.get('Draw', 0)\n",
    "\n",
    "# Function to compute outcome probabilities using sampled strengths\n",
    "def compute_outcome_probabilities(trace, team1, team2):\n",
    "    # Get posterior samples of strengths\n",
    "    strength_samples = trace['strength']\n",
    "    prior2_samples = trace['prior2']\n",
    "\n",
    "    # Store predicted probabilities\n",
    "    pred_probs = []\n",
    "\n",
    "    for s, p2 in zip(strength_samples, prior2_samples):\n",
    "        diff = s[team1] - s[team2]\n",
    "        p_win = pm.math.sigmoid(diff / p2).eval()  # Compute win probability\n",
    "        p_draw = p_draw_data  # Use the observed data draw probability\n",
    "        p_lose = 1 - p_win - p_draw  # Compute lose probability\n",
    "\n",
    "        # Ensure normalization\n",
    "        total_prob = p_draw + p_win + p_lose\n",
    "        pred_probs.append([p_draw / total_prob, p_win / total_prob, p_lose / total_prob])\n",
    "    \n",
    "    # Convert list to numpy array for easier handling\n",
    "    pred_probs = np.array(pred_probs)\n",
    "    return pred_probs.mean(axis=0)  # Return average predicted probabilities\n",
    "\n",
    "# Load the model and trace from previous fitting (assuming model fitting is done)\n",
    "# Here we assume that the trace is already available\n",
    "# If the model and trace were not saved, you need to fit the model again\n",
    "\n",
    "# Predictive probabilities for each new game\n",
    "predicted_probs = []\n",
    "\n",
    "for idx, game in df_new_games.iterrows():\n",
    "    team1_idx = teams.index(game['Team1'])\n",
    "    team2_idx = teams.index(game['Team2'])\n",
    "    probs = compute_outcome_probabilities(trace, team1_idx, team2_idx)\n",
    "    predicted_probs.append(probs)\n",
    "\n",
    "# Create a DataFrame for the predicted probabilities\n",
    "df_predicted_probs = pd.DataFrame(predicted_probs, columns=['P_Draw', 'P_Team1_Win', 'P_Team2_Win'])\n",
    "df_results = pd.concat([df_new_games, df_predicted_probs], axis=1)\n",
    "\n",
    "# Output the results\n",
    "print(df_results)"
   ]
  }
 ],
 "metadata": {
  "kernelspec": {
   "display_name": "Python 3",
   "language": "python",
   "name": "python3"
  },
  "language_info": {
   "codemirror_mode": {
    "name": "ipython",
    "version": 3
   },
   "file_extension": ".py",
   "mimetype": "text/x-python",
   "name": "python",
   "nbconvert_exporter": "python",
   "pygments_lexer": "ipython3",
   "version": "3.10.14"
  }
 },
 "nbformat": 4,
 "nbformat_minor": 4
}
